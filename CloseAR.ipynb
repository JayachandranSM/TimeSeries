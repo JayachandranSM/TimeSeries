{
 "cells": [
  {
   "cell_type": "code",
   "execution_count": 2,
   "id": "c94135fd",
   "metadata": {},
   "outputs": [],
   "source": [
    "import pandas as pd"
   ]
  },
  {
   "cell_type": "code",
   "execution_count": 3,
   "id": "2eda42a5",
   "metadata": {},
   "outputs": [],
   "source": [
    "#pip install scikit-learn==1.0.0\n",
    "#pip install statsmodels==0.12.2\n",
    "#!pip install yfinance"
   ]
  },
  {
   "cell_type": "code",
   "execution_count": 4,
   "id": "70f138f7",
   "metadata": {},
   "outputs": [],
   "source": [
    "import yfinance as yf\n",
    "import datetime as dt"
   ]
  },
  {
   "cell_type": "code",
   "execution_count": 5,
   "id": "2796d806",
   "metadata": {},
   "outputs": [
    {
     "name": "stdout",
     "output_type": "stream",
     "text": [
      "[*********************100%%**********************]  1 of 1 completed\n"
     ]
    }
   ],
   "source": [
    "start = dt.datetime(2021,7,1)\n",
    "end = dt.datetime(2022,1,28)\n",
    "stk_data = yf.download('TATACOFFEE.NS',start=start,end=end)\n"
   ]
  },
  {
   "cell_type": "code",
   "execution_count": 6,
   "id": "a876eef9",
   "metadata": {},
   "outputs": [
    {
     "data": {
      "text/html": [
       "<div>\n",
       "<style scoped>\n",
       "    .dataframe tbody tr th:only-of-type {\n",
       "        vertical-align: middle;\n",
       "    }\n",
       "\n",
       "    .dataframe tbody tr th {\n",
       "        vertical-align: top;\n",
       "    }\n",
       "\n",
       "    .dataframe thead th {\n",
       "        text-align: right;\n",
       "    }\n",
       "</style>\n",
       "<table border=\"1\" class=\"dataframe\">\n",
       "  <thead>\n",
       "    <tr style=\"text-align: right;\">\n",
       "      <th></th>\n",
       "      <th>Open</th>\n",
       "      <th>High</th>\n",
       "      <th>Low</th>\n",
       "      <th>Close</th>\n",
       "      <th>Adj Close</th>\n",
       "      <th>Volume</th>\n",
       "    </tr>\n",
       "    <tr>\n",
       "      <th>Date</th>\n",
       "      <th></th>\n",
       "      <th></th>\n",
       "      <th></th>\n",
       "      <th></th>\n",
       "      <th></th>\n",
       "      <th></th>\n",
       "    </tr>\n",
       "  </thead>\n",
       "  <tbody>\n",
       "    <tr>\n",
       "      <th>2021-07-01</th>\n",
       "      <td>188.600006</td>\n",
       "      <td>189.000000</td>\n",
       "      <td>183.000000</td>\n",
       "      <td>184.550003</td>\n",
       "      <td>180.377655</td>\n",
       "      <td>1743168</td>\n",
       "    </tr>\n",
       "    <tr>\n",
       "      <th>2021-07-02</th>\n",
       "      <td>183.050003</td>\n",
       "      <td>187.500000</td>\n",
       "      <td>182.149994</td>\n",
       "      <td>186.399994</td>\n",
       "      <td>182.185806</td>\n",
       "      <td>2398669</td>\n",
       "    </tr>\n",
       "    <tr>\n",
       "      <th>2021-07-05</th>\n",
       "      <td>187.850006</td>\n",
       "      <td>198.350006</td>\n",
       "      <td>187.850006</td>\n",
       "      <td>192.449997</td>\n",
       "      <td>188.099030</td>\n",
       "      <td>11386496</td>\n",
       "    </tr>\n",
       "    <tr>\n",
       "      <th>2021-07-06</th>\n",
       "      <td>193.800003</td>\n",
       "      <td>194.800003</td>\n",
       "      <td>187.350006</td>\n",
       "      <td>188.800003</td>\n",
       "      <td>184.531555</td>\n",
       "      <td>2841264</td>\n",
       "    </tr>\n",
       "    <tr>\n",
       "      <th>2021-07-07</th>\n",
       "      <td>187.800003</td>\n",
       "      <td>193.949997</td>\n",
       "      <td>185.399994</td>\n",
       "      <td>192.850006</td>\n",
       "      <td>188.490005</td>\n",
       "      <td>2795890</td>\n",
       "    </tr>\n",
       "    <tr>\n",
       "      <th>...</th>\n",
       "      <td>...</td>\n",
       "      <td>...</td>\n",
       "      <td>...</td>\n",
       "      <td>...</td>\n",
       "      <td>...</td>\n",
       "      <td>...</td>\n",
       "    </tr>\n",
       "    <tr>\n",
       "      <th>2022-01-20</th>\n",
       "      <td>219.500000</td>\n",
       "      <td>224.399994</td>\n",
       "      <td>218.399994</td>\n",
       "      <td>219.699997</td>\n",
       "      <td>214.732956</td>\n",
       "      <td>1750410</td>\n",
       "    </tr>\n",
       "    <tr>\n",
       "      <th>2022-01-21</th>\n",
       "      <td>217.699997</td>\n",
       "      <td>224.399994</td>\n",
       "      <td>216.699997</td>\n",
       "      <td>219.550003</td>\n",
       "      <td>214.586365</td>\n",
       "      <td>2489247</td>\n",
       "    </tr>\n",
       "    <tr>\n",
       "      <th>2022-01-24</th>\n",
       "      <td>218.000000</td>\n",
       "      <td>220.000000</td>\n",
       "      <td>205.199997</td>\n",
       "      <td>208.000000</td>\n",
       "      <td>203.297470</td>\n",
       "      <td>1718571</td>\n",
       "    </tr>\n",
       "    <tr>\n",
       "      <th>2022-01-25</th>\n",
       "      <td>207.500000</td>\n",
       "      <td>213.699997</td>\n",
       "      <td>200.000000</td>\n",
       "      <td>211.899994</td>\n",
       "      <td>207.109299</td>\n",
       "      <td>1301360</td>\n",
       "    </tr>\n",
       "    <tr>\n",
       "      <th>2022-01-27</th>\n",
       "      <td>209.949997</td>\n",
       "      <td>215.500000</td>\n",
       "      <td>208.149994</td>\n",
       "      <td>213.149994</td>\n",
       "      <td>208.331039</td>\n",
       "      <td>1610303</td>\n",
       "    </tr>\n",
       "  </tbody>\n",
       "</table>\n",
       "<p>144 rows × 6 columns</p>\n",
       "</div>"
      ],
      "text/plain": [
       "                  Open        High         Low       Close   Adj Close  \\\n",
       "Date                                                                     \n",
       "2021-07-01  188.600006  189.000000  183.000000  184.550003  180.377655   \n",
       "2021-07-02  183.050003  187.500000  182.149994  186.399994  182.185806   \n",
       "2021-07-05  187.850006  198.350006  187.850006  192.449997  188.099030   \n",
       "2021-07-06  193.800003  194.800003  187.350006  188.800003  184.531555   \n",
       "2021-07-07  187.800003  193.949997  185.399994  192.850006  188.490005   \n",
       "...                ...         ...         ...         ...         ...   \n",
       "2022-01-20  219.500000  224.399994  218.399994  219.699997  214.732956   \n",
       "2022-01-21  217.699997  224.399994  216.699997  219.550003  214.586365   \n",
       "2022-01-24  218.000000  220.000000  205.199997  208.000000  203.297470   \n",
       "2022-01-25  207.500000  213.699997  200.000000  211.899994  207.109299   \n",
       "2022-01-27  209.949997  215.500000  208.149994  213.149994  208.331039   \n",
       "\n",
       "              Volume  \n",
       "Date                  \n",
       "2021-07-01   1743168  \n",
       "2021-07-02   2398669  \n",
       "2021-07-05  11386496  \n",
       "2021-07-06   2841264  \n",
       "2021-07-07   2795890  \n",
       "...              ...  \n",
       "2022-01-20   1750410  \n",
       "2022-01-21   2489247  \n",
       "2022-01-24   1718571  \n",
       "2022-01-25   1301360  \n",
       "2022-01-27   1610303  \n",
       "\n",
       "[144 rows x 6 columns]"
      ]
     },
     "execution_count": 6,
     "metadata": {},
     "output_type": "execute_result"
    }
   ],
   "source": [
    "stk_data"
   ]
  },
  {
   "cell_type": "code",
   "execution_count": null,
   "id": "c8184d81",
   "metadata": {},
   "outputs": [],
   "source": []
  },
  {
   "cell_type": "code",
   "execution_count": 7,
   "id": "24d6ee5a",
   "metadata": {},
   "outputs": [],
   "source": [
    "stk_data=stk_data[[\"Open\",\"High\",\"Low\",\"Close\"]]"
   ]
  },
  {
   "cell_type": "code",
   "execution_count": 8,
   "id": "75c2b995",
   "metadata": {},
   "outputs": [
    {
     "data": {
      "text/html": [
       "<div>\n",
       "<style scoped>\n",
       "    .dataframe tbody tr th:only-of-type {\n",
       "        vertical-align: middle;\n",
       "    }\n",
       "\n",
       "    .dataframe tbody tr th {\n",
       "        vertical-align: top;\n",
       "    }\n",
       "\n",
       "    .dataframe thead th {\n",
       "        text-align: right;\n",
       "    }\n",
       "</style>\n",
       "<table border=\"1\" class=\"dataframe\">\n",
       "  <thead>\n",
       "    <tr style=\"text-align: right;\">\n",
       "      <th></th>\n",
       "      <th>Open</th>\n",
       "      <th>High</th>\n",
       "      <th>Low</th>\n",
       "      <th>Close</th>\n",
       "    </tr>\n",
       "    <tr>\n",
       "      <th>Date</th>\n",
       "      <th></th>\n",
       "      <th></th>\n",
       "      <th></th>\n",
       "      <th></th>\n",
       "    </tr>\n",
       "  </thead>\n",
       "  <tbody>\n",
       "    <tr>\n",
       "      <th>2021-07-01</th>\n",
       "      <td>188.600006</td>\n",
       "      <td>189.000000</td>\n",
       "      <td>183.000000</td>\n",
       "      <td>184.550003</td>\n",
       "    </tr>\n",
       "    <tr>\n",
       "      <th>2021-07-02</th>\n",
       "      <td>183.050003</td>\n",
       "      <td>187.500000</td>\n",
       "      <td>182.149994</td>\n",
       "      <td>186.399994</td>\n",
       "    </tr>\n",
       "    <tr>\n",
       "      <th>2021-07-05</th>\n",
       "      <td>187.850006</td>\n",
       "      <td>198.350006</td>\n",
       "      <td>187.850006</td>\n",
       "      <td>192.449997</td>\n",
       "    </tr>\n",
       "    <tr>\n",
       "      <th>2021-07-06</th>\n",
       "      <td>193.800003</td>\n",
       "      <td>194.800003</td>\n",
       "      <td>187.350006</td>\n",
       "      <td>188.800003</td>\n",
       "    </tr>\n",
       "    <tr>\n",
       "      <th>2021-07-07</th>\n",
       "      <td>187.800003</td>\n",
       "      <td>193.949997</td>\n",
       "      <td>185.399994</td>\n",
       "      <td>192.850006</td>\n",
       "    </tr>\n",
       "    <tr>\n",
       "      <th>...</th>\n",
       "      <td>...</td>\n",
       "      <td>...</td>\n",
       "      <td>...</td>\n",
       "      <td>...</td>\n",
       "    </tr>\n",
       "    <tr>\n",
       "      <th>2022-01-20</th>\n",
       "      <td>219.500000</td>\n",
       "      <td>224.399994</td>\n",
       "      <td>218.399994</td>\n",
       "      <td>219.699997</td>\n",
       "    </tr>\n",
       "    <tr>\n",
       "      <th>2022-01-21</th>\n",
       "      <td>217.699997</td>\n",
       "      <td>224.399994</td>\n",
       "      <td>216.699997</td>\n",
       "      <td>219.550003</td>\n",
       "    </tr>\n",
       "    <tr>\n",
       "      <th>2022-01-24</th>\n",
       "      <td>218.000000</td>\n",
       "      <td>220.000000</td>\n",
       "      <td>205.199997</td>\n",
       "      <td>208.000000</td>\n",
       "    </tr>\n",
       "    <tr>\n",
       "      <th>2022-01-25</th>\n",
       "      <td>207.500000</td>\n",
       "      <td>213.699997</td>\n",
       "      <td>200.000000</td>\n",
       "      <td>211.899994</td>\n",
       "    </tr>\n",
       "    <tr>\n",
       "      <th>2022-01-27</th>\n",
       "      <td>209.949997</td>\n",
       "      <td>215.500000</td>\n",
       "      <td>208.149994</td>\n",
       "      <td>213.149994</td>\n",
       "    </tr>\n",
       "  </tbody>\n",
       "</table>\n",
       "<p>144 rows × 4 columns</p>\n",
       "</div>"
      ],
      "text/plain": [
       "                  Open        High         Low       Close\n",
       "Date                                                      \n",
       "2021-07-01  188.600006  189.000000  183.000000  184.550003\n",
       "2021-07-02  183.050003  187.500000  182.149994  186.399994\n",
       "2021-07-05  187.850006  198.350006  187.850006  192.449997\n",
       "2021-07-06  193.800003  194.800003  187.350006  188.800003\n",
       "2021-07-07  187.800003  193.949997  185.399994  192.850006\n",
       "...                ...         ...         ...         ...\n",
       "2022-01-20  219.500000  224.399994  218.399994  219.699997\n",
       "2022-01-21  217.699997  224.399994  216.699997  219.550003\n",
       "2022-01-24  218.000000  220.000000  205.199997  208.000000\n",
       "2022-01-25  207.500000  213.699997  200.000000  211.899994\n",
       "2022-01-27  209.949997  215.500000  208.149994  213.149994\n",
       "\n",
       "[144 rows x 4 columns]"
      ]
     },
     "execution_count": 8,
     "metadata": {},
     "output_type": "execute_result"
    }
   ],
   "source": [
    "stk_data"
   ]
  },
  {
   "cell_type": "code",
   "execution_count": 9,
   "id": "8dfa058b",
   "metadata": {},
   "outputs": [],
   "source": [
    "column=\"Close\""
   ]
  },
  {
   "cell_type": "code",
   "execution_count": 10,
   "id": "e02924c0",
   "metadata": {},
   "outputs": [
    {
     "name": "stdout",
     "output_type": "stream",
     "text": [
      "Len: (144, 1)\n"
     ]
    }
   ],
   "source": [
    "from sklearn.preprocessing import MinMaxScaler\n",
    "Ms = MinMaxScaler()\n",
    "data1= Ms.fit_transform(stk_data[[column]])\n",
    "print(\"Len:\",data1.shape)"
   ]
  },
  {
   "cell_type": "code",
   "execution_count": 11,
   "id": "554d7e15",
   "metadata": {},
   "outputs": [
    {
     "data": {
      "text/plain": [
       "144"
      ]
     },
     "execution_count": 11,
     "metadata": {},
     "output_type": "execute_result"
    }
   ],
   "source": [
    "len(data1)"
   ]
  },
  {
   "cell_type": "code",
   "execution_count": 12,
   "id": "3b7d1fef",
   "metadata": {},
   "outputs": [
    {
     "name": "stdout",
     "output_type": "stream",
     "text": [
      "115\n",
      "X_train length: (115, 1)\n",
      "X_test length: (29, 1)\n",
      "y_train length: (115, 1)\n",
      "y_test length: (29, 1)\n"
     ]
    }
   ],
   "source": [
    "training_size = round(len(data1 ) * 0.80)\n",
    "print(training_size)\n",
    "X_train=data1[:training_size]\n",
    "X_test=data1[training_size:]\n",
    "print(\"X_train length:\",X_train.shape)\n",
    "print(\"X_test length:\",X_test.shape)\n",
    "y_train=data1[:training_size]\n",
    "y_test=data1[training_size:]\n",
    "print(\"y_train length:\",y_train.shape)\n",
    "print(\"y_test length:\",y_test.shape)"
   ]
  },
  {
   "cell_type": "code",
   "execution_count": null,
   "id": "ab2c10e9",
   "metadata": {},
   "outputs": [],
   "source": []
  },
  {
   "cell_type": "code",
   "execution_count": 13,
   "id": "616334c0",
   "metadata": {
    "scrolled": true
   },
   "outputs": [
    {
     "name": "stdout",
     "output_type": "stream",
     "text": [
      "Lag=1,Trend=n\n",
      "RMSE-Testset: 0.2423729796770662\n",
      "maPe-Testset: 0.3791199156989925\n",
      "************\n",
      "Lag=1,Trend=t\n",
      "RMSE-Testset: 0.21499573591363927\n",
      "maPe-Testset: 0.388264502330018\n",
      "************\n",
      "Lag=1,Trend=c\n",
      "RMSE-Testset: 0.13293802668610366\n",
      "maPe-Testset: 0.22696764491802648\n",
      "************\n",
      "Lag=1,Trend=ct\n",
      "RMSE-Testset: 0.1188930761115359\n",
      "maPe-Testset: 0.20779338713944362\n",
      "************\n",
      "Lag=2,Trend=n\n",
      "RMSE-Testset: 0.24431693973699656\n",
      "maPe-Testset: 0.38157794146766694\n",
      "************\n",
      "Lag=2,Trend=t\n",
      "RMSE-Testset: 0.22846864540276007\n",
      "maPe-Testset: 0.4123372736293183\n",
      "************\n",
      "Lag=2,Trend=c\n",
      "RMSE-Testset: 0.1329974159877985\n",
      "maPe-Testset: 0.22649400094865094\n",
      "************\n",
      "Lag=2,Trend=ct\n",
      "RMSE-Testset: 0.12563261619011593\n",
      "maPe-Testset: 0.2221645873093973\n",
      "************\n",
      "Lag=3,Trend=n\n",
      "RMSE-Testset: 0.21810788656452168\n",
      "maPe-Testset: 0.348738057690746\n",
      "************\n",
      "Lag=3,Trend=t\n",
      "RMSE-Testset: 0.20969022097246914\n",
      "maPe-Testset: 0.3795845546967478\n",
      "************\n",
      "Lag=3,Trend=c\n",
      "RMSE-Testset: 0.1335584544142244\n",
      "maPe-Testset: 0.22833326027434647\n",
      "************\n",
      "Lag=3,Trend=ct\n",
      "RMSE-Testset: 0.12428059904475977\n",
      "maPe-Testset: 0.2194982731236691\n",
      "************\n",
      "Lag=4,Trend=n\n",
      "RMSE-Testset: 0.22688443071282272\n",
      "maPe-Testset: 0.35972473096331165\n",
      "************\n",
      "Lag=4,Trend=t\n",
      "RMSE-Testset: 0.22755734807363018\n",
      "maPe-Testset: 0.4100858933150262\n",
      "************\n",
      "Lag=4,Trend=c\n",
      "RMSE-Testset: 0.13132748002050698\n",
      "maPe-Testset: 0.22350750609606146\n",
      "************\n",
      "Lag=4,Trend=ct\n",
      "RMSE-Testset: 0.12747676865163526\n",
      "maPe-Testset: 0.2269832956469807\n",
      "************\n"
     ]
    }
   ],
   "source": [
    "from sklearn.metrics import mean_squared_error\n",
    "trends=['n','t','c','ct']\n",
    "lags=[1,2,3,4]\n",
    "from statsmodels.tsa.ar_model import AutoReg\n",
    "for i in lags:\n",
    "    #print(i)\n",
    "   \n",
    "    for td in trends:\n",
    "        \n",
    "        #print(td)\n",
    "        #trendslist.append(td)\n",
    "        model = AutoReg(X_train, lags=i,trend=td)\n",
    "        model_fit = model.fit()\n",
    "        # make prediction\n",
    "        y_pred= model_fit.predict(len(X_train), len(data1)-1)\n",
    "        #print(y_pred)\n",
    "        #mse=mean_squared_error(y_test,y_pred,squared=False)\n",
    "        from stockFunctions import rmsemape\n",
    "        print(\"Lag={},Trend={}\".format(i,td))\n",
    "        rmsemape(y_test,y_pred)\n",
    "        print(\"************\")"
   ]
  },
  {
   "cell_type": "code",
   "execution_count": 14,
   "id": "1058851c",
   "metadata": {},
   "outputs": [
    {
     "name": "stdout",
     "output_type": "stream",
     "text": [
      "Lag=1,Trend=ct\n",
      "RMSE-Testset: 0.1188930761115359\n",
      "maPe-Testset: 0.20779338713944362\n",
      "************\n"
     ]
    }
   ],
   "source": [
    "i=1\n",
    "td='ct'\n",
    "model = AutoReg(X_train, lags=i,trend=td)\n",
    "model_fit = model.fit()\n",
    "# make prediction\n",
    "y_pred= model_fit.predict(len(X_train), len(data1)-1)\n",
    "#print(y_pred)\n",
    "from sklearn.metrics import r2_score\n",
    "mse=mean_squared_error(y_test,y_pred,squared=False)\n",
    "from stockFunctions import rmsemape\n",
    "print(\"Lag={},Trend={}\".format(i,td))\n",
    "rmsemape(y_test,y_pred)\n",
    "print(\"************\")"
   ]
  },
  {
   "cell_type": "code",
   "execution_count": 15,
   "id": "0c99d6a9",
   "metadata": {
    "scrolled": true
   },
   "outputs": [
    {
     "data": {
      "image/png": "[encoded data removed]",
      "text/plain": [
       "<Figure size 1000x500 with 1 Axes>"
      ]
     },
     "metadata": {},
     "output_type": "display_data"
    }
   ],
   "source": [
    "from stockFunctions import graph\n",
    "graph(y_test,y_pred,\"Actual\",\"Predicted\",\"TataCoffee-Close-AR-Norm\",\"Days\",\"Prices\")"
   ]
  },
  {
   "cell_type": "code",
   "execution_count": 16,
   "id": "c5f9b793",
   "metadata": {},
   "outputs": [
    {
     "data": {
      "text/plain": [
       "144"
      ]
     },
     "execution_count": 16,
     "metadata": {},
     "output_type": "execute_result"
    }
   ],
   "source": [
    "len(data1)"
   ]
  },
  {
   "cell_type": "code",
   "execution_count": 34,
   "id": "e4454779",
   "metadata": {},
   "outputs": [
    {
     "data": {
      "text/plain": [
       "array([[0.41682071],\n",
       "       [0.23752319],\n",
       "       [0.33179288],\n",
       "       [0.43068393],\n",
       "       [0.39279108],\n",
       "       [0.35674678],\n",
       "       [0.67744926],\n",
       "       [0.56654354],\n",
       "       [0.54805926],\n",
       "       [0.49537893],\n",
       "       [0.58133075],\n",
       "       [0.59796677],\n",
       "       [0.66728285],\n",
       "       [0.61275426],\n",
       "       [0.59611823],\n",
       "       [0.58225502],\n",
       "       [0.62754146],\n",
       "       [0.67005538],\n",
       "       [0.67837325],\n",
       "       [0.68299432],\n",
       "       [0.71256929],\n",
       "       [0.73475038],\n",
       "       [0.66913111],\n",
       "       [0.66913111],\n",
       "       [0.70240288],\n",
       "       [0.69963035],\n",
       "       [0.48613679],\n",
       "       [0.55822539],\n",
       "       [0.58133075]])"
      ]
     },
     "execution_count": 34,
     "metadata": {},
     "output_type": "execute_result"
    }
   ],
   "source": [
    "y_test"
   ]
  },
  {
   "cell_type": "code",
   "execution_count": 18,
   "id": "627e2044",
   "metadata": {},
   "outputs": [],
   "source": [
    "from stockFunctions import conversionSingle\n",
    "aTestNormTable=conversionSingle(y_test,[column])"
   ]
  },
  {
   "cell_type": "code",
   "execution_count": 19,
   "id": "ead3201b",
   "metadata": {},
   "outputs": [
    {
     "data": {
      "text/html": [
       "<div>\n",
       "<style scoped>\n",
       "    .dataframe tbody tr th:only-of-type {\n",
       "        vertical-align: middle;\n",
       "    }\n",
       "\n",
       "    .dataframe tbody tr th {\n",
       "        vertical-align: top;\n",
       "    }\n",
       "\n",
       "    .dataframe thead th {\n",
       "        text-align: right;\n",
       "    }\n",
       "</style>\n",
       "<table border=\"1\" class=\"dataframe\">\n",
       "  <thead>\n",
       "    <tr style=\"text-align: right;\">\n",
       "      <th></th>\n",
       "      <th>Close</th>\n",
       "    </tr>\n",
       "  </thead>\n",
       "  <tbody>\n",
       "    <tr>\n",
       "      <th>0</th>\n",
       "      <td>0.416821</td>\n",
       "    </tr>\n",
       "    <tr>\n",
       "      <th>1</th>\n",
       "      <td>0.237523</td>\n",
       "    </tr>\n",
       "    <tr>\n",
       "      <th>2</th>\n",
       "      <td>0.331793</td>\n",
       "    </tr>\n",
       "    <tr>\n",
       "      <th>3</th>\n",
       "      <td>0.430684</td>\n",
       "    </tr>\n",
       "    <tr>\n",
       "      <th>4</th>\n",
       "      <td>0.392791</td>\n",
       "    </tr>\n",
       "    <tr>\n",
       "      <th>5</th>\n",
       "      <td>0.356747</td>\n",
       "    </tr>\n",
       "    <tr>\n",
       "      <th>6</th>\n",
       "      <td>0.677449</td>\n",
       "    </tr>\n",
       "    <tr>\n",
       "      <th>7</th>\n",
       "      <td>0.566544</td>\n",
       "    </tr>\n",
       "    <tr>\n",
       "      <th>8</th>\n",
       "      <td>0.548059</td>\n",
       "    </tr>\n",
       "    <tr>\n",
       "      <th>9</th>\n",
       "      <td>0.495379</td>\n",
       "    </tr>\n",
       "    <tr>\n",
       "      <th>10</th>\n",
       "      <td>0.581331</td>\n",
       "    </tr>\n",
       "    <tr>\n",
       "      <th>11</th>\n",
       "      <td>0.597967</td>\n",
       "    </tr>\n",
       "    <tr>\n",
       "      <th>12</th>\n",
       "      <td>0.667283</td>\n",
       "    </tr>\n",
       "    <tr>\n",
       "      <th>13</th>\n",
       "      <td>0.612754</td>\n",
       "    </tr>\n",
       "    <tr>\n",
       "      <th>14</th>\n",
       "      <td>0.596118</td>\n",
       "    </tr>\n",
       "    <tr>\n",
       "      <th>15</th>\n",
       "      <td>0.582255</td>\n",
       "    </tr>\n",
       "    <tr>\n",
       "      <th>16</th>\n",
       "      <td>0.627541</td>\n",
       "    </tr>\n",
       "    <tr>\n",
       "      <th>17</th>\n",
       "      <td>0.670055</td>\n",
       "    </tr>\n",
       "    <tr>\n",
       "      <th>18</th>\n",
       "      <td>0.678373</td>\n",
       "    </tr>\n",
       "    <tr>\n",
       "      <th>19</th>\n",
       "      <td>0.682994</td>\n",
       "    </tr>\n",
       "    <tr>\n",
       "      <th>20</th>\n",
       "      <td>0.712569</td>\n",
       "    </tr>\n",
       "    <tr>\n",
       "      <th>21</th>\n",
       "      <td>0.73475</td>\n",
       "    </tr>\n",
       "    <tr>\n",
       "      <th>22</th>\n",
       "      <td>0.669131</td>\n",
       "    </tr>\n",
       "    <tr>\n",
       "      <th>23</th>\n",
       "      <td>0.669131</td>\n",
       "    </tr>\n",
       "    <tr>\n",
       "      <th>24</th>\n",
       "      <td>0.702403</td>\n",
       "    </tr>\n",
       "    <tr>\n",
       "      <th>25</th>\n",
       "      <td>0.69963</td>\n",
       "    </tr>\n",
       "    <tr>\n",
       "      <th>26</th>\n",
       "      <td>0.486137</td>\n",
       "    </tr>\n",
       "    <tr>\n",
       "      <th>27</th>\n",
       "      <td>0.558225</td>\n",
       "    </tr>\n",
       "    <tr>\n",
       "      <th>28</th>\n",
       "      <td>0.581331</td>\n",
       "    </tr>\n",
       "  </tbody>\n",
       "</table>\n",
       "</div>"
      ],
      "text/plain": [
       "       Close\n",
       "0   0.416821\n",
       "1   0.237523\n",
       "2   0.331793\n",
       "3   0.430684\n",
       "4   0.392791\n",
       "5   0.356747\n",
       "6   0.677449\n",
       "7   0.566544\n",
       "8   0.548059\n",
       "9   0.495379\n",
       "10  0.581331\n",
       "11  0.597967\n",
       "12  0.667283\n",
       "13  0.612754\n",
       "14  0.596118\n",
       "15  0.582255\n",
       "16  0.627541\n",
       "17  0.670055\n",
       "18  0.678373\n",
       "19  0.682994\n",
       "20  0.712569\n",
       "21   0.73475\n",
       "22  0.669131\n",
       "23  0.669131\n",
       "24  0.702403\n",
       "25   0.69963\n",
       "26  0.486137\n",
       "27  0.558225\n",
       "28  0.581331"
      ]
     },
     "execution_count": 19,
     "metadata": {},
     "output_type": "execute_result"
    }
   ],
   "source": [
    "aTestNormTable"
   ]
  },
  {
   "cell_type": "code",
   "execution_count": 20,
   "id": "59016262",
   "metadata": {},
   "outputs": [],
   "source": [
    "actual_stock_price_test_ori=Ms.inverse_transform(aTestNormTable)"
   ]
  },
  {
   "cell_type": "code",
   "execution_count": 21,
   "id": "b394a59f",
   "metadata": {},
   "outputs": [
    {
     "data": {
      "text/plain": [
       "array([[204.25      ],\n",
       "       [194.55000305],\n",
       "       [199.6499939 ],\n",
       "       [205.        ],\n",
       "       [202.94999695],\n",
       "       [201.        ],\n",
       "       [218.3500061 ],\n",
       "       [212.3500061 ],\n",
       "       [211.3500061 ],\n",
       "       [208.5       ],\n",
       "       [213.1499939 ],\n",
       "       [214.05000305],\n",
       "       [217.80000305],\n",
       "       [214.8500061 ],\n",
       "       [213.94999695],\n",
       "       [213.19999695],\n",
       "       [215.6499939 ],\n",
       "       [217.94999695],\n",
       "       [218.3999939 ],\n",
       "       [218.6499939 ],\n",
       "       [220.25      ],\n",
       "       [221.44999695],\n",
       "       [217.8999939 ],\n",
       "       [217.8999939 ],\n",
       "       [219.69999695],\n",
       "       [219.55000305],\n",
       "       [208.        ],\n",
       "       [211.8999939 ],\n",
       "       [213.1499939 ]])"
      ]
     },
     "execution_count": 21,
     "metadata": {},
     "output_type": "execute_result"
    }
   ],
   "source": [
    "actual_stock_price_test_ori"
   ]
  },
  {
   "cell_type": "code",
   "execution_count": 22,
   "id": "ca8dfb08",
   "metadata": {},
   "outputs": [],
   "source": [
    "actual_stock_price_test_oriA=conversionSingle(actual_stock_price_test_ori,[column])"
   ]
  },
  {
   "cell_type": "code",
   "execution_count": 23,
   "id": "ffa4bafe",
   "metadata": {},
   "outputs": [
    {
     "data": {
      "text/html": [
       "<div>\n",
       "<style scoped>\n",
       "    .dataframe tbody tr th:only-of-type {\n",
       "        vertical-align: middle;\n",
       "    }\n",
       "\n",
       "    .dataframe tbody tr th {\n",
       "        vertical-align: top;\n",
       "    }\n",
       "\n",
       "    .dataframe thead th {\n",
       "        text-align: right;\n",
       "    }\n",
       "</style>\n",
       "<table border=\"1\" class=\"dataframe\">\n",
       "  <thead>\n",
       "    <tr style=\"text-align: right;\">\n",
       "      <th></th>\n",
       "      <th>Close</th>\n",
       "    </tr>\n",
       "  </thead>\n",
       "  <tbody>\n",
       "    <tr>\n",
       "      <th>0</th>\n",
       "      <td>204.25</td>\n",
       "    </tr>\n",
       "    <tr>\n",
       "      <th>1</th>\n",
       "      <td>194.550003</td>\n",
       "    </tr>\n",
       "    <tr>\n",
       "      <th>2</th>\n",
       "      <td>199.649994</td>\n",
       "    </tr>\n",
       "    <tr>\n",
       "      <th>3</th>\n",
       "      <td>205.0</td>\n",
       "    </tr>\n",
       "    <tr>\n",
       "      <th>4</th>\n",
       "      <td>202.949997</td>\n",
       "    </tr>\n",
       "    <tr>\n",
       "      <th>5</th>\n",
       "      <td>201.0</td>\n",
       "    </tr>\n",
       "    <tr>\n",
       "      <th>6</th>\n",
       "      <td>218.350006</td>\n",
       "    </tr>\n",
       "    <tr>\n",
       "      <th>7</th>\n",
       "      <td>212.350006</td>\n",
       "    </tr>\n",
       "    <tr>\n",
       "      <th>8</th>\n",
       "      <td>211.350006</td>\n",
       "    </tr>\n",
       "    <tr>\n",
       "      <th>9</th>\n",
       "      <td>208.5</td>\n",
       "    </tr>\n",
       "    <tr>\n",
       "      <th>10</th>\n",
       "      <td>213.149994</td>\n",
       "    </tr>\n",
       "    <tr>\n",
       "      <th>11</th>\n",
       "      <td>214.050003</td>\n",
       "    </tr>\n",
       "    <tr>\n",
       "      <th>12</th>\n",
       "      <td>217.800003</td>\n",
       "    </tr>\n",
       "    <tr>\n",
       "      <th>13</th>\n",
       "      <td>214.850006</td>\n",
       "    </tr>\n",
       "    <tr>\n",
       "      <th>14</th>\n",
       "      <td>213.949997</td>\n",
       "    </tr>\n",
       "    <tr>\n",
       "      <th>15</th>\n",
       "      <td>213.199997</td>\n",
       "    </tr>\n",
       "    <tr>\n",
       "      <th>16</th>\n",
       "      <td>215.649994</td>\n",
       "    </tr>\n",
       "    <tr>\n",
       "      <th>17</th>\n",
       "      <td>217.949997</td>\n",
       "    </tr>\n",
       "    <tr>\n",
       "      <th>18</th>\n",
       "      <td>218.399994</td>\n",
       "    </tr>\n",
       "    <tr>\n",
       "      <th>19</th>\n",
       "      <td>218.649994</td>\n",
       "    </tr>\n",
       "    <tr>\n",
       "      <th>20</th>\n",
       "      <td>220.25</td>\n",
       "    </tr>\n",
       "    <tr>\n",
       "      <th>21</th>\n",
       "      <td>221.449997</td>\n",
       "    </tr>\n",
       "    <tr>\n",
       "      <th>22</th>\n",
       "      <td>217.899994</td>\n",
       "    </tr>\n",
       "    <tr>\n",
       "      <th>23</th>\n",
       "      <td>217.899994</td>\n",
       "    </tr>\n",
       "    <tr>\n",
       "      <th>24</th>\n",
       "      <td>219.699997</td>\n",
       "    </tr>\n",
       "    <tr>\n",
       "      <th>25</th>\n",
       "      <td>219.550003</td>\n",
       "    </tr>\n",
       "    <tr>\n",
       "      <th>26</th>\n",
       "      <td>208.0</td>\n",
       "    </tr>\n",
       "    <tr>\n",
       "      <th>27</th>\n",
       "      <td>211.899994</td>\n",
       "    </tr>\n",
       "    <tr>\n",
       "      <th>28</th>\n",
       "      <td>213.149994</td>\n",
       "    </tr>\n",
       "  </tbody>\n",
       "</table>\n",
       "</div>"
      ],
      "text/plain": [
       "         Close\n",
       "0       204.25\n",
       "1   194.550003\n",
       "2   199.649994\n",
       "3        205.0\n",
       "4   202.949997\n",
       "5        201.0\n",
       "6   218.350006\n",
       "7   212.350006\n",
       "8   211.350006\n",
       "9        208.5\n",
       "10  213.149994\n",
       "11  214.050003\n",
       "12  217.800003\n",
       "13  214.850006\n",
       "14  213.949997\n",
       "15  213.199997\n",
       "16  215.649994\n",
       "17  217.949997\n",
       "18  218.399994\n",
       "19  218.649994\n",
       "20      220.25\n",
       "21  221.449997\n",
       "22  217.899994\n",
       "23  217.899994\n",
       "24  219.699997\n",
       "25  219.550003\n",
       "26       208.0\n",
       "27  211.899994\n",
       "28  213.149994"
      ]
     },
     "execution_count": 23,
     "metadata": {},
     "output_type": "execute_result"
    }
   ],
   "source": [
    "actual_stock_price_test_oriA"
   ]
  },
  {
   "cell_type": "code",
   "execution_count": null,
   "id": "9ae752b1",
   "metadata": {},
   "outputs": [],
   "source": []
  },
  {
   "cell_type": "code",
   "execution_count": null,
   "id": "b2ad40e7",
   "metadata": {},
   "outputs": [],
   "source": []
  },
  {
   "cell_type": "code",
   "execution_count": 24,
   "id": "f775803e",
   "metadata": {},
   "outputs": [],
   "source": [
    "from stockFunctions import conversionSingle\n",
    "aTestNormTable=conversionSingle(y_test,[column])\n",
    "actual_stock_price_test_ori=Ms.inverse_transform(aTestNormTable)\n",
    "actual_stock_price_test_oriA=conversionSingle(actual_stock_price_test_ori,[column])"
   ]
  },
  {
   "cell_type": "code",
   "execution_count": 25,
   "id": "6374db28",
   "metadata": {},
   "outputs": [],
   "source": [
    "from stockFunctions import conversionSingle\n",
    "pTestNormTable=conversionSingle(y_pred,[column])\n",
    "predicted_stock_price_test_ori=Ms.inverse_transform(pTestNormTable)\n",
    "predicted_stock_price_test_oriP=conversionSingle(predicted_stock_price_test_ori,[column])"
   ]
  },
  {
   "cell_type": "code",
   "execution_count": 26,
   "id": "e2881d33",
   "metadata": {},
   "outputs": [
    {
     "data": {
      "image/png": "[encoded data removed]",
      "text/plain": [
       "<Figure size 1000x500 with 1 Axes>"
      ]
     },
     "metadata": {},
     "output_type": "display_data"
    }
   ],
   "source": [
    "from stockFunctions import graph\n",
    "graph(actual_stock_price_test_oriA,predicted_stock_price_test_oriP,\"Actual\",\"Predicted\",\"TataCoffee-Close-AR-Ori\",\"Days\",\"Prices\")"
   ]
  },
  {
   "cell_type": "code",
   "execution_count": 27,
   "id": "4b72a03b",
   "metadata": {},
   "outputs": [
    {
     "name": "stdout",
     "output_type": "stream",
     "text": [
      "RMSE-Testset: 6.432116143299845\n",
      "maPe-Testset: 0.02289672873998576\n"
     ]
    }
   ],
   "source": [
    "from stockFunctions import rmsemape\n",
    "rmsemape(actual_stock_price_test_oriA,predicted_stock_price_test_oriP)"
   ]
  },
  {
   "cell_type": "code",
   "execution_count": 28,
   "id": "e9e5ff09",
   "metadata": {},
   "outputs": [],
   "source": [
    "forecast=model_fit.predict(len(data1), len(data1)+3)"
   ]
  },
  {
   "cell_type": "code",
   "execution_count": 29,
   "id": "b4bb25ca",
   "metadata": {},
   "outputs": [
    {
     "data": {
      "text/plain": [
       "array([0.71051676, 0.71304295, 0.71554992, 0.71804083])"
      ]
     },
     "execution_count": 29,
     "metadata": {},
     "output_type": "execute_result"
    }
   ],
   "source": [
    "forecast"
   ]
  },
  {
   "cell_type": "code",
   "execution_count": 30,
   "id": "6c8d1126",
   "metadata": {},
   "outputs": [],
   "source": [
    "from stockFunctions import conversionSingle\n",
    "fTestNormTable=conversionSingle(forecast,['fore'])\n",
    "forecast_stock_price_test_ori=Ms.inverse_transform(fTestNormTable)\n",
    "forecast_stock_price_test_oriF=conversionSingle(forecast_stock_price_test_ori,[\"Closefore\"])"
   ]
  },
  {
   "cell_type": "code",
   "execution_count": 31,
   "id": "e89d82d4",
   "metadata": {},
   "outputs": [
    {
     "data": {
      "text/html": [
       "<div>\n",
       "<style scoped>\n",
       "    .dataframe tbody tr th:only-of-type {\n",
       "        vertical-align: middle;\n",
       "    }\n",
       "\n",
       "    .dataframe tbody tr th {\n",
       "        vertical-align: top;\n",
       "    }\n",
       "\n",
       "    .dataframe thead th {\n",
       "        text-align: right;\n",
       "    }\n",
       "</style>\n",
       "<table border=\"1\" class=\"dataframe\">\n",
       "  <thead>\n",
       "    <tr style=\"text-align: right;\">\n",
       "      <th></th>\n",
       "      <th>Closefore</th>\n",
       "    </tr>\n",
       "  </thead>\n",
       "  <tbody>\n",
       "    <tr>\n",
       "      <th>0</th>\n",
       "      <td>220.138958</td>\n",
       "    </tr>\n",
       "    <tr>\n",
       "      <th>1</th>\n",
       "      <td>220.275625</td>\n",
       "    </tr>\n",
       "    <tr>\n",
       "      <th>2</th>\n",
       "      <td>220.411252</td>\n",
       "    </tr>\n",
       "    <tr>\n",
       "      <th>3</th>\n",
       "      <td>220.54601</td>\n",
       "    </tr>\n",
       "  </tbody>\n",
       "</table>\n",
       "</div>"
      ],
      "text/plain": [
       "    Closefore\n",
       "0  220.138958\n",
       "1  220.275625\n",
       "2  220.411252\n",
       "3   220.54601"
      ]
     },
     "execution_count": 31,
     "metadata": {},
     "output_type": "execute_result"
    }
   ],
   "source": [
    "forecast_stock_price_test_oriF"
   ]
  },
  {
   "cell_type": "code",
   "execution_count": 32,
   "id": "6273d5a9",
   "metadata": {},
   "outputs": [],
   "source": [
    "forecast_stock_price_test_oriF.to_csv(\"CloseAR.csv\",index=False)"
   ]
  },
  {
   "cell_type": "code",
   "execution_count": 33,
   "id": "d3b0a4c4",
   "metadata": {},
   "outputs": [
    {
     "data": {
      "text/plain": [
       "[<matplotlib.lines.Line2D at 0x216a6977910>]"
      ]
     },
     "execution_count": 33,
     "metadata": {},
     "output_type": "execute_result"
    },
    {
     "data": {
      "image/png": "[encoded data removed]",
      "text/plain": [
       "<Figure size 1000x500 with 1 Axes>"
      ]
     },
     "metadata": {},
     "output_type": "display_data"
    }
   ],
   "source": [
    "import matplotlib.pyplot as plt\n",
    "plt.figure(figsize=(10,5))\n",
    "plt.plot(actual_stock_price_test_oriA[116:145], color = 'blue', label=\"Actual\")\n",
    "plt.plot(forecast_stock_price_test_oriF, color = 'red', label =\"Predicted\")"
   ]
  },
  {
   "cell_type": "code",
   "execution_count": null,
   "id": "0b417c1a",
   "metadata": {},
   "outputs": [],
   "source": []
  },
  {
   "cell_type": "code",
   "execution_count": null,
   "id": "8e69e4b3",
   "metadata": {},
   "outputs": [],
   "source": []
  },
  {
   "cell_type": "code",
   "execution_count": null,
   "id": "87404a12",
   "metadata": {},
   "outputs": [],
   "source": []
  },
  {
   "cell_type": "code",
   "execution_count": null,
   "id": "c0659d71",
   "metadata": {},
   "outputs": [],
   "source": []
  },
  {
   "cell_type": "code",
   "execution_count": null,
   "id": "11286e2e",
   "metadata": {},
   "outputs": [],
   "source": []
  },
  {
   "cell_type": "code",
   "execution_count": null,
   "id": "626de41c",
   "metadata": {},
   "outputs": [],
   "source": []
  }
 ],
 "metadata": {
  "kernelspec": {
   "display_name": "Python 3 (ipykernel)",
   "language": "python",
   "name": "python3"
  },
  "language_info": {
   "codemirror_mode": {
    "name": "ipython",
    "version": 3
   },
   "file_extension": ".py",
   "mimetype": "text/x-python",
   "name": "python",
   "nbconvert_exporter": "python",
   "pygments_lexer": "ipython3",
   "version": "3.11.4"
  }
 },
 "nbformat": 4,
 "nbformat_minor": 5
}
