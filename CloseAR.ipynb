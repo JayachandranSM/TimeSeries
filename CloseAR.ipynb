{
 "cells": [
  {
   "cell_type": "code",
   "execution_count": 100,
   "id": "c94135fd",
   "metadata": {
    "id": "c94135fd"
   },
   "outputs": [],
   "source": [
    "import pandas as pd"
   ]
  },
  {
   "cell_type": "code",
   "execution_count": 8,
   "id": "2ecbe8ee",
   "metadata": {
    "id": "2ecbe8ee"
   },
   "outputs": [],
   "source": [
    "#!pip install nsepy"
   ]
  },
  {
   "cell_type": "code",
   "execution_count": 9,
   "id": "2eda42a5",
   "metadata": {
    "id": "2eda42a5"
   },
   "outputs": [],
   "source": [
    "#pip install scikit-learn==1.0.0\n",
    "#pip install statsmodels==0.12.2"
   ]
  },
  {
   "cell_type": "code",
   "execution_count": 65,
   "id": "a37e051e",
   "metadata": {
    "id": "a37e051e"
   },
   "outputs": [],
   "source": [
    "#!pip install yfinance"
   ]
  },
  {
   "cell_type": "code",
   "execution_count": 101,
   "id": "fd29ef47",
   "metadata": {
    "id": "fd29ef47"
   },
   "outputs": [],
   "source": [
    "import yfinance as yf"
   ]
  },
  {
   "cell_type": "code",
   "execution_count": 102,
   "id": "3add4b95",
   "metadata": {
    "id": "3add4b95",
    "outputId": "256ddad7-0aaf-47d1-8fcb-4d6ce9fbab9b"
   },
   "outputs": [
    {
     "name": "stdout",
     "output_type": "stream",
     "text": [
      "[*********************100%%**********************]  1 of 1 completed\n"
     ]
    }
   ],
   "source": [
    "import datetime as dt\n",
    "\n",
    "start = dt.datetime(2021, 7, 1)\n",
    "end = dt.datetime(2022, 1, 27)\n",
    "#symbol = 'TATACOFFEE.NS'  # Stock symbol in uppercase\n",
    "\n",
    "stk_data = yf.download('TATACOFFEE.NS', start=start, end=end)"
   ]
  },
  {
   "cell_type": "code",
   "execution_count": 103,
   "id": "b17a833a",
   "metadata": {
    "id": "b17a833a",
    "outputId": "a5903882-0e4f-4390-9fd5-98a0ae7e5ebc"
   },
   "outputs": [
    {
     "name": "stdout",
     "output_type": "stream",
     "text": [
      "<class 'pandas.core.frame.DataFrame'>\n",
      "DatetimeIndex: 143 entries, 2021-07-01 to 2022-01-25\n",
      "Data columns (total 6 columns):\n",
      " #   Column     Non-Null Count  Dtype  \n",
      "---  ------     --------------  -----  \n",
      " 0   Open       143 non-null    float64\n",
      " 1   High       143 non-null    float64\n",
      " 2   Low        143 non-null    float64\n",
      " 3   Close      143 non-null    float64\n",
      " 4   Adj Close  143 non-null    float64\n",
      " 5   Volume     143 non-null    int64  \n",
      "dtypes: float64(5), int64(1)\n",
      "memory usage: 7.8 KB\n"
     ]
    }
   ],
   "source": [
    "stk_data.info()"
   ]
  },
  {
   "cell_type": "code",
   "execution_count": 104,
   "id": "a876eef9",
   "metadata": {
    "id": "a876eef9",
    "outputId": "3bce418a-79d7-48a8-cf89-9406c976c386"
   },
   "outputs": [
    {
     "data": {
      "text/plain": [
       "235.8000030517578"
      ]
     },
     "execution_count": 104,
     "metadata": {},
     "output_type": "execute_result"
    }
   ],
   "source": [
    "stk_data['Close'].max()"
   ]
  },
  {
   "cell_type": "code",
   "execution_count": 105,
   "id": "24d6ee5a",
   "metadata": {
    "id": "24d6ee5a"
   },
   "outputs": [],
   "source": [
    "stk_data=stk_data[[\"Open\",\"High\",\"Low\",\"Close\"]]"
   ]
  },
  {
   "cell_type": "code",
   "execution_count": 106,
   "id": "75c2b995",
   "metadata": {
    "id": "75c2b995",
    "outputId": "516ee70a-4e4d-48f7-e666-db5611d00633"
   },
   "outputs": [
    {
     "data": {
      "text/html": [
       "<div>\n",
       "<style scoped>\n",
       "    .dataframe tbody tr th:only-of-type {\n",
       "        vertical-align: middle;\n",
       "    }\n",
       "\n",
       "    .dataframe tbody tr th {\n",
       "        vertical-align: top;\n",
       "    }\n",
       "\n",
       "    .dataframe thead th {\n",
       "        text-align: right;\n",
       "    }\n",
       "</style>\n",
       "<table border=\"1\" class=\"dataframe\">\n",
       "  <thead>\n",
       "    <tr style=\"text-align: right;\">\n",
       "      <th></th>\n",
       "      <th>Open</th>\n",
       "      <th>High</th>\n",
       "      <th>Low</th>\n",
       "      <th>Close</th>\n",
       "    </tr>\n",
       "    <tr>\n",
       "      <th>Date</th>\n",
       "      <th></th>\n",
       "      <th></th>\n",
       "      <th></th>\n",
       "      <th></th>\n",
       "    </tr>\n",
       "  </thead>\n",
       "  <tbody>\n",
       "    <tr>\n",
       "      <th>2021-07-01</th>\n",
       "      <td>188.600006</td>\n",
       "      <td>189.000000</td>\n",
       "      <td>183.000000</td>\n",
       "      <td>184.550003</td>\n",
       "    </tr>\n",
       "    <tr>\n",
       "      <th>2021-07-02</th>\n",
       "      <td>183.050003</td>\n",
       "      <td>187.500000</td>\n",
       "      <td>182.149994</td>\n",
       "      <td>186.399994</td>\n",
       "    </tr>\n",
       "    <tr>\n",
       "      <th>2021-07-05</th>\n",
       "      <td>187.850006</td>\n",
       "      <td>198.350006</td>\n",
       "      <td>187.850006</td>\n",
       "      <td>192.449997</td>\n",
       "    </tr>\n",
       "    <tr>\n",
       "      <th>2021-07-06</th>\n",
       "      <td>193.800003</td>\n",
       "      <td>194.800003</td>\n",
       "      <td>187.350006</td>\n",
       "      <td>188.800003</td>\n",
       "    </tr>\n",
       "    <tr>\n",
       "      <th>2021-07-07</th>\n",
       "      <td>187.800003</td>\n",
       "      <td>193.949997</td>\n",
       "      <td>185.399994</td>\n",
       "      <td>192.850006</td>\n",
       "    </tr>\n",
       "    <tr>\n",
       "      <th>...</th>\n",
       "      <td>...</td>\n",
       "      <td>...</td>\n",
       "      <td>...</td>\n",
       "      <td>...</td>\n",
       "    </tr>\n",
       "    <tr>\n",
       "      <th>2022-01-19</th>\n",
       "      <td>218.000000</td>\n",
       "      <td>219.000000</td>\n",
       "      <td>214.199997</td>\n",
       "      <td>217.899994</td>\n",
       "    </tr>\n",
       "    <tr>\n",
       "      <th>2022-01-20</th>\n",
       "      <td>219.500000</td>\n",
       "      <td>224.399994</td>\n",
       "      <td>218.399994</td>\n",
       "      <td>219.699997</td>\n",
       "    </tr>\n",
       "    <tr>\n",
       "      <th>2022-01-21</th>\n",
       "      <td>217.699997</td>\n",
       "      <td>224.399994</td>\n",
       "      <td>216.699997</td>\n",
       "      <td>219.550003</td>\n",
       "    </tr>\n",
       "    <tr>\n",
       "      <th>2022-01-24</th>\n",
       "      <td>218.000000</td>\n",
       "      <td>220.000000</td>\n",
       "      <td>205.199997</td>\n",
       "      <td>208.000000</td>\n",
       "    </tr>\n",
       "    <tr>\n",
       "      <th>2022-01-25</th>\n",
       "      <td>207.500000</td>\n",
       "      <td>213.699997</td>\n",
       "      <td>200.000000</td>\n",
       "      <td>211.899994</td>\n",
       "    </tr>\n",
       "  </tbody>\n",
       "</table>\n",
       "<p>143 rows × 4 columns</p>\n",
       "</div>"
      ],
      "text/plain": [
       "                  Open        High         Low       Close\n",
       "Date                                                      \n",
       "2021-07-01  188.600006  189.000000  183.000000  184.550003\n",
       "2021-07-02  183.050003  187.500000  182.149994  186.399994\n",
       "2021-07-05  187.850006  198.350006  187.850006  192.449997\n",
       "2021-07-06  193.800003  194.800003  187.350006  188.800003\n",
       "2021-07-07  187.800003  193.949997  185.399994  192.850006\n",
       "...                ...         ...         ...         ...\n",
       "2022-01-19  218.000000  219.000000  214.199997  217.899994\n",
       "2022-01-20  219.500000  224.399994  218.399994  219.699997\n",
       "2022-01-21  217.699997  224.399994  216.699997  219.550003\n",
       "2022-01-24  218.000000  220.000000  205.199997  208.000000\n",
       "2022-01-25  207.500000  213.699997  200.000000  211.899994\n",
       "\n",
       "[143 rows x 4 columns]"
      ]
     },
     "execution_count": 106,
     "metadata": {},
     "output_type": "execute_result"
    }
   ],
   "source": [
    "stk_data"
   ]
  },
  {
   "cell_type": "code",
   "execution_count": 107,
   "id": "8dfa058b",
   "metadata": {
    "id": "8dfa058b"
   },
   "outputs": [
    {
     "data": {
      "text/plain": [
       "'Close'"
      ]
     },
     "execution_count": 107,
     "metadata": {},
     "output_type": "execute_result"
    }
   ],
   "source": [
    "column=\"Close\"\n",
    "column"
   ]
  },
  {
   "cell_type": "code",
   "execution_count": 108,
   "id": "e02924c0",
   "metadata": {
    "id": "e02924c0",
    "outputId": "26a892a9-3d08-4901-d081-0bd2bfed2823"
   },
   "outputs": [
    {
     "name": "stdout",
     "output_type": "stream",
     "text": [
      "Len: (143, 1)\n"
     ]
    }
   ],
   "source": [
    "from sklearn.preprocessing import MinMaxScaler\n",
    "Ms = MinMaxScaler()\n",
    "data1= Ms.fit_transform(stk_data[[column]])\n",
    "print(\"Len:\",data1.shape)"
   ]
  },
  {
   "cell_type": "code",
   "execution_count": 109,
   "id": "554d7e15",
   "metadata": {
    "id": "554d7e15",
    "outputId": "1ffadb7b-6f36-4f08-e9fc-7597c00a7e3a"
   },
   "outputs": [
    {
     "data": {
      "text/plain": [
       "array([[0.05268033],\n",
       "       [0.08687609],\n",
       "       [0.19870608],\n",
       "       [0.13123855],\n",
       "       [0.20609996],\n",
       "       [0.1617375 ],\n",
       "       [0.15157109],\n",
       "       [0.09057317],\n",
       "       [0.19408501],\n",
       "       [0.19408501],\n",
       "       [0.19316074],\n",
       "       [0.1580407 ],\n",
       "       [0.13678389],\n",
       "       [0.04990752],\n",
       "       [0.31977821],\n",
       "       [0.4926064 ],\n",
       "       [0.62476893],\n",
       "       [0.99075786],\n",
       "       [0.61737533],\n",
       "       [0.55083179],\n",
       "       [0.56931607],\n",
       "       [0.55452859],\n",
       "       [0.46303143],\n",
       "       [0.57948249],\n",
       "       [0.50646961],\n",
       "       [0.56377073],\n",
       "       [0.48428824],\n",
       "       [0.39186681],\n",
       "       [0.27356749],\n",
       "       [0.40573003],\n",
       "       [0.45101675],\n",
       "       [0.3743068 ],\n",
       "       [0.34750464],\n",
       "       [0.33733822],\n",
       "       [0.13863215],\n",
       "       [0.        ],\n",
       "       [0.27541603],\n",
       "       [0.31885394],\n",
       "       [0.26340108],\n",
       "       [0.24491679],\n",
       "       [0.31885394],\n",
       "       [0.58133075],\n",
       "       [0.54343819],\n",
       "       [0.51386321],\n",
       "       [0.47874318],\n",
       "       [0.41404818],\n",
       "       [0.5683918 ],\n",
       "       [0.55822539],\n",
       "       [0.53696857],\n",
       "       [0.49075786],\n",
       "       [0.48983359],\n",
       "       [0.5       ],\n",
       "       [0.56654354],\n",
       "       [0.49353039],\n",
       "       [0.37892787],\n",
       "       [0.38724574],\n",
       "       [0.44547141],\n",
       "       [0.45933463],\n",
       "       [0.40110896],\n",
       "       [0.4029575 ],\n",
       "       [0.37892787],\n",
       "       [0.39741215],\n",
       "       [0.40388177],\n",
       "       [0.36414038],\n",
       "       [0.44085034],\n",
       "       [0.43807753],\n",
       "       [0.57763395],\n",
       "       [0.67744926],\n",
       "       [0.68761539],\n",
       "       [0.64972283],\n",
       "       [0.85304998],\n",
       "       [0.96487969],\n",
       "       [0.90110896],\n",
       "       [0.96950076],\n",
       "       [1.        ],\n",
       "       [0.8382625 ],\n",
       "       [0.80591499],\n",
       "       [0.68576713],\n",
       "       [0.56561927],\n",
       "       [0.6044361 ],\n",
       "       [0.6044361 ],\n",
       "       [0.52218109],\n",
       "       [0.48428824],\n",
       "       [0.55637713],\n",
       "       [0.58872463],\n",
       "       [0.57486142],\n",
       "       [0.63123855],\n",
       "       [0.63493535],\n",
       "       [0.68484286],\n",
       "       [0.71811463],\n",
       "       [0.70240288],\n",
       "       [0.72088716],\n",
       "       [0.81146034],\n",
       "       [0.79667285],\n",
       "       [0.87153427],\n",
       "       [0.80776325],\n",
       "       [0.59426997],\n",
       "       [0.6580407 ],\n",
       "       [0.64510176],\n",
       "       [0.64695002],\n",
       "       [0.48706106],\n",
       "       [0.32717181],\n",
       "       [0.39094282],\n",
       "       [0.42144178],\n",
       "       [0.43715354],\n",
       "       [0.41866925],\n",
       "       [0.38447321],\n",
       "       [0.56746753],\n",
       "       [0.58780036],\n",
       "       [0.57486142],\n",
       "       [0.64232895],\n",
       "       [0.60905718],\n",
       "       [0.57763395],\n",
       "       [0.54343819],\n",
       "       [0.48243998],\n",
       "       [0.41682071],\n",
       "       [0.23752319],\n",
       "       [0.33179288],\n",
       "       [0.43068393],\n",
       "       [0.39279108],\n",
       "       [0.35674678],\n",
       "       [0.67744926],\n",
       "       [0.56654354],\n",
       "       [0.54805926],\n",
       "       [0.49537893],\n",
       "       [0.58133075],\n",
       "       [0.59796677],\n",
       "       [0.66728285],\n",
       "       [0.61275426],\n",
       "       [0.59611823],\n",
       "       [0.58225502],\n",
       "       [0.62754146],\n",
       "       [0.67005538],\n",
       "       [0.67837325],\n",
       "       [0.68299432],\n",
       "       [0.71256929],\n",
       "       [0.73475038],\n",
       "       [0.66913111],\n",
       "       [0.66913111],\n",
       "       [0.70240288],\n",
       "       [0.69963035],\n",
       "       [0.48613679],\n",
       "       [0.55822539]])"
      ]
     },
     "execution_count": 109,
     "metadata": {},
     "output_type": "execute_result"
    }
   ],
   "source": [
    "data1"
   ]
  },
  {
   "cell_type": "code",
   "execution_count": 110,
   "id": "3b7d1fef",
   "metadata": {
    "id": "3b7d1fef",
    "outputId": "f02afc4c-a627-45fa-9204-19d1427eeb36"
   },
   "outputs": [
    {
     "name": "stdout",
     "output_type": "stream",
     "text": [
      "114\n",
      "X_train length: (114, 1)\n",
      "X_test length: (29, 1)\n",
      "y_train length: (114, 1)\n",
      "y_test length: (29, 1)\n"
     ]
    }
   ],
   "source": [
    "training_size = round(len(data1 ) * 0.80)\n",
    "print(training_size)\n",
    "X_train=data1[:training_size]\n",
    "X_test=data1[training_size:]\n",
    "print(\"X_train length:\",X_train.shape)\n",
    "print(\"X_test length:\",X_test.shape)\n",
    "y_train=data1[:training_size]\n",
    "y_test=data1[training_size:]\n",
    "print(\"y_train length:\",y_train.shape)\n",
    "print(\"y_test length:\",y_test.shape)"
   ]
  },
  {
   "cell_type": "code",
   "execution_count": 111,
   "id": "616334c0",
   "metadata": {
    "id": "616334c0",
    "outputId": "af2f3f02-0bfc-4dce-a946-23e5b81ad1be",
    "scrolled": true
   },
   "outputs": [
    {
     "name": "stdout",
     "output_type": "stream",
     "text": [
      "Lag=1,Trend=n\n",
      "RMSE-Testset: 0.20654748849078589\n",
      "maPe-Testset: 0.3394937380142982\n",
      "************\n",
      "Lag=1,Trend=t\n",
      "RMSE-Testset: 0.2566081137498472\n",
      "maPe-Testset: 0.48085478872141685\n",
      "************\n",
      "Lag=1,Trend=c\n",
      "RMSE-Testset: 0.13637560786345088\n",
      "maPe-Testset: 0.24036686571027172\n",
      "************\n",
      "Lag=1,Trend=ct\n",
      "RMSE-Testset: 0.14531436690469735\n",
      "maPe-Testset: 0.2619950131393076\n",
      "************\n",
      "Lag=2,Trend=n\n",
      "RMSE-Testset: 0.20794265058538544\n",
      "maPe-Testset: 0.3413588770465708\n",
      "************\n",
      "Lag=2,Trend=t\n",
      "RMSE-Testset: 0.2679089734863768\n",
      "maPe-Testset: 0.5022414272715727\n",
      "************\n",
      "Lag=2,Trend=c\n",
      "RMSE-Testset: 0.13681618155927297\n",
      "maPe-Testset: 0.24067020943866524\n",
      "************\n",
      "Lag=2,Trend=ct\n",
      "RMSE-Testset: 0.15147028701245308\n",
      "maPe-Testset: 0.2752688766653898\n",
      "************\n",
      "Lag=3,Trend=n\n",
      "RMSE-Testset: 0.1835949502963747\n",
      "maPe-Testset: 0.3083142771166432\n",
      "************\n",
      "Lag=3,Trend=t\n",
      "RMSE-Testset: 0.2520678152766649\n",
      "maPe-Testset: 0.47306914504960856\n",
      "************\n",
      "Lag=3,Trend=c\n",
      "RMSE-Testset: 0.1366232823287689\n",
      "maPe-Testset: 0.24107115613187102\n",
      "************\n",
      "Lag=3,Trend=ct\n",
      "RMSE-Testset: 0.15107493286841292\n",
      "maPe-Testset: 0.2751138009821565\n",
      "************\n",
      "Lag=4,Trend=n\n",
      "RMSE-Testset: 0.19051836705401212\n",
      "maPe-Testset: 0.3178347799028246\n",
      "************\n",
      "Lag=4,Trend=t\n",
      "RMSE-Testset: 0.26649629145125964\n",
      "maPe-Testset: 0.49886140002090545\n",
      "************\n",
      "Lag=4,Trend=c\n",
      "RMSE-Testset: 0.13536262933103319\n",
      "maPe-Testset: 0.2381159012859276\n",
      "************\n",
      "Lag=4,Trend=ct\n",
      "RMSE-Testset: 0.15214356451879504\n",
      "maPe-Testset: 0.2768052183676345\n",
      "************\n"
     ]
    }
   ],
   "source": [
    "#from sklearn.metrics import mean_squared_error\n",
    "trends=['n','t','c','ct']\n",
    "lags=[1,2,3,4]\n",
    "from statsmodels.tsa.ar_model import AutoReg\n",
    "for i in lags:\n",
    "    #print(i)\n",
    "\n",
    "    for td in trends:\n",
    "\n",
    "        #print(td)\n",
    "        #trendslist.append(td)\n",
    "        model = AutoReg(X_train, lags=i,trend=td)\n",
    "        model_fit = model.fit()\n",
    "        # make prediction\n",
    "        y_pred= model_fit.predict(len(X_train),len(data1)-1)\n",
    "        #print(y_pred)\n",
    "        #mse=mean_squared_error(y_test,y_pred,squared=False)\n",
    "        from stockFunctions import rmsemape\n",
    "        print(\"Lag={},Trend={}\".format(i,td))\n",
    "        rmsemape(y_test,y_pred)\n",
    "        print(\"************\")"
   ]
  },
  {
   "cell_type": "code",
   "execution_count": 113,
   "id": "73a854e0",
   "metadata": {
    "id": "73a854e0",
    "outputId": "1c7f9c3e-b074-4716-f59a-23d91a382af5"
   },
   "outputs": [
    {
     "data": {
      "text/plain": [
       "array([0.56184546, 0.58305376, 0.59911899, 0.61733114, 0.63322   ,\n",
       "       0.64573459, 0.65629264, 0.66499931, 0.67207401, 0.67799649,\n",
       "       0.68304428, 0.68742368, 0.69132612, 0.69488606, 0.69819913,\n",
       "       0.70133857, 0.70435649, 0.7072894 , 0.71016346, 0.71299703,\n",
       "       0.7158028 , 0.71858958, 0.72136346, 0.72412861, 0.72688787,\n",
       "       0.72964316, 0.7323958 , 0.73514667, 0.73789637])"
      ]
     },
     "execution_count": 113,
     "metadata": {},
     "output_type": "execute_result"
    }
   ],
   "source": [
    "y_pred"
   ]
  },
  {
   "cell_type": "code",
   "execution_count": 114,
   "id": "1058851c",
   "metadata": {
    "id": "1058851c",
    "outputId": "e59635b6-2c0b-4768-959a-00a56e0bd84d"
   },
   "outputs": [
    {
     "name": "stdout",
     "output_type": "stream",
     "text": [
      "Lag=1,Trend=ct\n",
      "RMSE-Testset: 0.14531436690469735\n",
      "maPe-Testset: 0.2619950131393076\n",
      "************\n"
     ]
    }
   ],
   "source": [
    "i=1\n",
    "td='ct'\n",
    "model = AutoReg(X_train, lags=i,trend=td)\n",
    "model_fit = model.fit()\n",
    "# make prediction\n",
    "y_pred= model_fit.predict(len(X_train), len(data1)-1)\n",
    "#print(y_pred)\n",
    "#from sklearn.metrics import r2_score\n",
    "#mse=mean_squared_error(y_test,y_pred,squared=False)\n",
    "from stockFunctions import rmsemape\n",
    "print(\"Lag={},Trend={}\".format(i,td))\n",
    "rmsemape(y_test,y_pred)\n",
    "print(\"************\")"
   ]
  },
  {
   "cell_type": "code",
   "execution_count": 115,
   "id": "0c99d6a9",
   "metadata": {
    "id": "0c99d6a9",
    "outputId": "9e263949-e375-4845-c6ea-6aaaf1cfe851",
    "scrolled": true
   },
   "outputs": [
    {
     "data": {
      "image/png": "[encoded data removed]",
      "text/plain": [
       "<Figure size 1000x500 with 1 Axes>"
      ]
     },
     "metadata": {},
     "output_type": "display_data"
    }
   ],
   "source": [
    "from stockFunctions import graph\n",
    "graph(y_test,y_pred,\"Actual\",\"Predicted\",\"TataCoffee-Close-AR-Norm\",\"Days\",\"Prices\")"
   ]
  },
  {
   "cell_type": "code",
   "execution_count": 96,
   "id": "c5f9b793",
   "metadata": {
    "id": "c5f9b793",
    "outputId": "70cd963a-08f0-4c05-f22d-5d0512db2ad6"
   },
   "outputs": [
    {
     "data": {
      "text/plain": [
       "143"
      ]
     },
     "execution_count": 96,
     "metadata": {},
     "output_type": "execute_result"
    }
   ],
   "source": [
    "len(data1)"
   ]
  },
  {
   "cell_type": "code",
   "execution_count": 125,
   "id": "e4454779",
   "metadata": {
    "id": "e4454779",
    "outputId": "cd0bccca-f46c-4d55-f945-d14a0c60b65f"
   },
   "outputs": [],
   "source": [
    "#y_test"
   ]
  },
  {
   "cell_type": "code",
   "execution_count": 97,
   "id": "5d4a34b1-3d0d-4b4c-883a-2ffb5fb57564",
   "metadata": {},
   "outputs": [
    {
     "data": {
      "text/plain": [
       "'Close'"
      ]
     },
     "execution_count": 97,
     "metadata": {},
     "output_type": "execute_result"
    }
   ],
   "source": [
    "column"
   ]
  },
  {
   "cell_type": "code",
   "execution_count": 123,
   "id": "120ea1f6-affc-46ec-a9a0-249d213817b3",
   "metadata": {},
   "outputs": [
    {
     "data": {
      "text/html": [
       "<div>\n",
       "<style scoped>\n",
       "    .dataframe tbody tr th:only-of-type {\n",
       "        vertical-align: middle;\n",
       "    }\n",
       "\n",
       "    .dataframe tbody tr th {\n",
       "        vertical-align: top;\n",
       "    }\n",
       "\n",
       "    .dataframe thead th {\n",
       "        text-align: right;\n",
       "    }\n",
       "</style>\n",
       "<table border=\"1\" class=\"dataframe\">\n",
       "  <thead>\n",
       "    <tr style=\"text-align: right;\">\n",
       "      <th></th>\n",
       "      <th>Close</th>\n",
       "    </tr>\n",
       "  </thead>\n",
       "  <tbody>\n",
       "    <tr>\n",
       "      <th>0</th>\n",
       "      <td>0.48244</td>\n",
       "    </tr>\n",
       "    <tr>\n",
       "      <th>1</th>\n",
       "      <td>0.416821</td>\n",
       "    </tr>\n",
       "    <tr>\n",
       "      <th>2</th>\n",
       "      <td>0.237523</td>\n",
       "    </tr>\n",
       "    <tr>\n",
       "      <th>3</th>\n",
       "      <td>0.331793</td>\n",
       "    </tr>\n",
       "    <tr>\n",
       "      <th>4</th>\n",
       "      <td>0.430684</td>\n",
       "    </tr>\n",
       "    <tr>\n",
       "      <th>5</th>\n",
       "      <td>0.392791</td>\n",
       "    </tr>\n",
       "    <tr>\n",
       "      <th>6</th>\n",
       "      <td>0.356747</td>\n",
       "    </tr>\n",
       "    <tr>\n",
       "      <th>7</th>\n",
       "      <td>0.677449</td>\n",
       "    </tr>\n",
       "    <tr>\n",
       "      <th>8</th>\n",
       "      <td>0.566544</td>\n",
       "    </tr>\n",
       "    <tr>\n",
       "      <th>9</th>\n",
       "      <td>0.548059</td>\n",
       "    </tr>\n",
       "    <tr>\n",
       "      <th>10</th>\n",
       "      <td>0.495379</td>\n",
       "    </tr>\n",
       "    <tr>\n",
       "      <th>11</th>\n",
       "      <td>0.581331</td>\n",
       "    </tr>\n",
       "    <tr>\n",
       "      <th>12</th>\n",
       "      <td>0.597967</td>\n",
       "    </tr>\n",
       "    <tr>\n",
       "      <th>13</th>\n",
       "      <td>0.667283</td>\n",
       "    </tr>\n",
       "    <tr>\n",
       "      <th>14</th>\n",
       "      <td>0.612754</td>\n",
       "    </tr>\n",
       "    <tr>\n",
       "      <th>15</th>\n",
       "      <td>0.596118</td>\n",
       "    </tr>\n",
       "    <tr>\n",
       "      <th>16</th>\n",
       "      <td>0.582255</td>\n",
       "    </tr>\n",
       "    <tr>\n",
       "      <th>17</th>\n",
       "      <td>0.627541</td>\n",
       "    </tr>\n",
       "    <tr>\n",
       "      <th>18</th>\n",
       "      <td>0.670055</td>\n",
       "    </tr>\n",
       "    <tr>\n",
       "      <th>19</th>\n",
       "      <td>0.678373</td>\n",
       "    </tr>\n",
       "    <tr>\n",
       "      <th>20</th>\n",
       "      <td>0.682994</td>\n",
       "    </tr>\n",
       "    <tr>\n",
       "      <th>21</th>\n",
       "      <td>0.712569</td>\n",
       "    </tr>\n",
       "    <tr>\n",
       "      <th>22</th>\n",
       "      <td>0.73475</td>\n",
       "    </tr>\n",
       "    <tr>\n",
       "      <th>23</th>\n",
       "      <td>0.669131</td>\n",
       "    </tr>\n",
       "    <tr>\n",
       "      <th>24</th>\n",
       "      <td>0.669131</td>\n",
       "    </tr>\n",
       "    <tr>\n",
       "      <th>25</th>\n",
       "      <td>0.702403</td>\n",
       "    </tr>\n",
       "    <tr>\n",
       "      <th>26</th>\n",
       "      <td>0.69963</td>\n",
       "    </tr>\n",
       "    <tr>\n",
       "      <th>27</th>\n",
       "      <td>0.486137</td>\n",
       "    </tr>\n",
       "    <tr>\n",
       "      <th>28</th>\n",
       "      <td>0.558225</td>\n",
       "    </tr>\n",
       "  </tbody>\n",
       "</table>\n",
       "</div>"
      ],
      "text/plain": [
       "       Close\n",
       "0    0.48244\n",
       "1   0.416821\n",
       "2   0.237523\n",
       "3   0.331793\n",
       "4   0.430684\n",
       "5   0.392791\n",
       "6   0.356747\n",
       "7   0.677449\n",
       "8   0.566544\n",
       "9   0.548059\n",
       "10  0.495379\n",
       "11  0.581331\n",
       "12  0.597967\n",
       "13  0.667283\n",
       "14  0.612754\n",
       "15  0.596118\n",
       "16  0.582255\n",
       "17  0.627541\n",
       "18  0.670055\n",
       "19  0.678373\n",
       "20  0.682994\n",
       "21  0.712569\n",
       "22   0.73475\n",
       "23  0.669131\n",
       "24  0.669131\n",
       "25  0.702403\n",
       "26   0.69963\n",
       "27  0.486137\n",
       "28  0.558225"
      ]
     },
     "execution_count": 123,
     "metadata": {},
     "output_type": "execute_result"
    }
   ],
   "source": [
    "import pandas as pd # jaya personal code \n",
    "Actual_y_test = pd.DataFrame(index=range(len(y_test)),columns =['Close'])\n",
    "for i in range(len(y_test)):\n",
    "        Actual_y_test.loc[i] =y_test[i]\n",
    "\n",
    "Actual_y_test"
   ]
  },
  {
   "cell_type": "code",
   "execution_count": 29,
   "id": "627e2044",
   "metadata": {
    "id": "627e2044"
   },
   "outputs": [],
   "source": [
    "from stockFunctions import conversionSingle\n",
    "aTestNormTable=conversionSingle(y_test,[column])"
   ]
  },
  {
   "cell_type": "code",
   "execution_count": 30,
   "id": "ead3201b",
   "metadata": {
    "id": "ead3201b",
    "outputId": "570f3e52-9988-4153-b39a-6c56a90bd993"
   },
   "outputs": [
    {
     "data": {
      "text/html": [
       "<div>\n",
       "<style scoped>\n",
       "    .dataframe tbody tr th:only-of-type {\n",
       "        vertical-align: middle;\n",
       "    }\n",
       "\n",
       "    .dataframe tbody tr th {\n",
       "        vertical-align: top;\n",
       "    }\n",
       "\n",
       "    .dataframe thead th {\n",
       "        text-align: right;\n",
       "    }\n",
       "</style>\n",
       "<table border=\"1\" class=\"dataframe\">\n",
       "  <thead>\n",
       "    <tr style=\"text-align: right;\">\n",
       "      <th></th>\n",
       "      <th>Close</th>\n",
       "    </tr>\n",
       "  </thead>\n",
       "  <tbody>\n",
       "    <tr>\n",
       "      <th>0</th>\n",
       "      <td>0.48244</td>\n",
       "    </tr>\n",
       "    <tr>\n",
       "      <th>1</th>\n",
       "      <td>0.416821</td>\n",
       "    </tr>\n",
       "    <tr>\n",
       "      <th>2</th>\n",
       "      <td>0.237523</td>\n",
       "    </tr>\n",
       "    <tr>\n",
       "      <th>3</th>\n",
       "      <td>0.331793</td>\n",
       "    </tr>\n",
       "    <tr>\n",
       "      <th>4</th>\n",
       "      <td>0.430684</td>\n",
       "    </tr>\n",
       "    <tr>\n",
       "      <th>5</th>\n",
       "      <td>0.392791</td>\n",
       "    </tr>\n",
       "    <tr>\n",
       "      <th>6</th>\n",
       "      <td>0.356747</td>\n",
       "    </tr>\n",
       "    <tr>\n",
       "      <th>7</th>\n",
       "      <td>0.677449</td>\n",
       "    </tr>\n",
       "    <tr>\n",
       "      <th>8</th>\n",
       "      <td>0.566544</td>\n",
       "    </tr>\n",
       "    <tr>\n",
       "      <th>9</th>\n",
       "      <td>0.548059</td>\n",
       "    </tr>\n",
       "    <tr>\n",
       "      <th>10</th>\n",
       "      <td>0.495379</td>\n",
       "    </tr>\n",
       "    <tr>\n",
       "      <th>11</th>\n",
       "      <td>0.581331</td>\n",
       "    </tr>\n",
       "    <tr>\n",
       "      <th>12</th>\n",
       "      <td>0.597967</td>\n",
       "    </tr>\n",
       "    <tr>\n",
       "      <th>13</th>\n",
       "      <td>0.667283</td>\n",
       "    </tr>\n",
       "    <tr>\n",
       "      <th>14</th>\n",
       "      <td>0.612754</td>\n",
       "    </tr>\n",
       "    <tr>\n",
       "      <th>15</th>\n",
       "      <td>0.596118</td>\n",
       "    </tr>\n",
       "    <tr>\n",
       "      <th>16</th>\n",
       "      <td>0.582255</td>\n",
       "    </tr>\n",
       "    <tr>\n",
       "      <th>17</th>\n",
       "      <td>0.627541</td>\n",
       "    </tr>\n",
       "    <tr>\n",
       "      <th>18</th>\n",
       "      <td>0.670055</td>\n",
       "    </tr>\n",
       "    <tr>\n",
       "      <th>19</th>\n",
       "      <td>0.678373</td>\n",
       "    </tr>\n",
       "    <tr>\n",
       "      <th>20</th>\n",
       "      <td>0.682994</td>\n",
       "    </tr>\n",
       "    <tr>\n",
       "      <th>21</th>\n",
       "      <td>0.712569</td>\n",
       "    </tr>\n",
       "    <tr>\n",
       "      <th>22</th>\n",
       "      <td>0.73475</td>\n",
       "    </tr>\n",
       "    <tr>\n",
       "      <th>23</th>\n",
       "      <td>0.669131</td>\n",
       "    </tr>\n",
       "    <tr>\n",
       "      <th>24</th>\n",
       "      <td>0.669131</td>\n",
       "    </tr>\n",
       "    <tr>\n",
       "      <th>25</th>\n",
       "      <td>0.702403</td>\n",
       "    </tr>\n",
       "    <tr>\n",
       "      <th>26</th>\n",
       "      <td>0.69963</td>\n",
       "    </tr>\n",
       "    <tr>\n",
       "      <th>27</th>\n",
       "      <td>0.486137</td>\n",
       "    </tr>\n",
       "    <tr>\n",
       "      <th>28</th>\n",
       "      <td>0.558225</td>\n",
       "    </tr>\n",
       "  </tbody>\n",
       "</table>\n",
       "</div>"
      ],
      "text/plain": [
       "       Close\n",
       "0    0.48244\n",
       "1   0.416821\n",
       "2   0.237523\n",
       "3   0.331793\n",
       "4   0.430684\n",
       "5   0.392791\n",
       "6   0.356747\n",
       "7   0.677449\n",
       "8   0.566544\n",
       "9   0.548059\n",
       "10  0.495379\n",
       "11  0.581331\n",
       "12  0.597967\n",
       "13  0.667283\n",
       "14  0.612754\n",
       "15  0.596118\n",
       "16  0.582255\n",
       "17  0.627541\n",
       "18  0.670055\n",
       "19  0.678373\n",
       "20  0.682994\n",
       "21  0.712569\n",
       "22   0.73475\n",
       "23  0.669131\n",
       "24  0.669131\n",
       "25  0.702403\n",
       "26   0.69963\n",
       "27  0.486137\n",
       "28  0.558225"
      ]
     },
     "execution_count": 30,
     "metadata": {},
     "output_type": "execute_result"
    }
   ],
   "source": [
    "aTestNormTable"
   ]
  },
  {
   "cell_type": "code",
   "execution_count": 31,
   "id": "59016262",
   "metadata": {
    "id": "59016262"
   },
   "outputs": [],
   "source": [
    "actual_stock_price_test_ori=Ms.inverse_transform(aTestNormTable)"
   ]
  },
  {
   "cell_type": "code",
   "execution_count": 127,
   "id": "b394a59f",
   "metadata": {
    "id": "b394a59f",
    "outputId": "4b59dce5-e80d-41e4-a235-8b4ae6457731"
   },
   "outputs": [
    {
     "data": {
      "text/plain": [
       "array([[207.80000305],\n",
       "       [204.25      ],\n",
       "       [194.55000305],\n",
       "       [199.6499939 ],\n",
       "       [205.        ],\n",
       "       [202.94999695],\n",
       "       [201.        ],\n",
       "       [218.3500061 ],\n",
       "       [212.3500061 ],\n",
       "       [211.3500061 ],\n",
       "       [208.5       ],\n",
       "       [213.1499939 ],\n",
       "       [214.05000305],\n",
       "       [217.80000305],\n",
       "       [214.8500061 ],\n",
       "       [213.94999695],\n",
       "       [213.19999695],\n",
       "       [215.6499939 ],\n",
       "       [217.94999695],\n",
       "       [218.3999939 ],\n",
       "       [218.6499939 ],\n",
       "       [220.25      ],\n",
       "       [221.44999695],\n",
       "       [217.8999939 ],\n",
       "       [217.8999939 ],\n",
       "       [219.69999695],\n",
       "       [219.55000305],\n",
       "       [208.        ],\n",
       "       [211.8999939 ]])"
      ]
     },
     "execution_count": 127,
     "metadata": {},
     "output_type": "execute_result"
    }
   ],
   "source": [
    "actual_stock_price_test_ori"
   ]
  },
  {
   "cell_type": "code",
   "execution_count": 33,
   "id": "ca8dfb08",
   "metadata": {
    "id": "ca8dfb08"
   },
   "outputs": [],
   "source": [
    "actual_stock_price_test_oriA=conversionSingle(actual_stock_price_test_ori,[column])"
   ]
  },
  {
   "cell_type": "code",
   "execution_count": 34,
   "id": "ffa4bafe",
   "metadata": {
    "id": "ffa4bafe",
    "outputId": "33efc4ec-ed63-49ce-8957-763975830e76"
   },
   "outputs": [
    {
     "data": {
      "text/html": [
       "<div>\n",
       "<style scoped>\n",
       "    .dataframe tbody tr th:only-of-type {\n",
       "        vertical-align: middle;\n",
       "    }\n",
       "\n",
       "    .dataframe tbody tr th {\n",
       "        vertical-align: top;\n",
       "    }\n",
       "\n",
       "    .dataframe thead th {\n",
       "        text-align: right;\n",
       "    }\n",
       "</style>\n",
       "<table border=\"1\" class=\"dataframe\">\n",
       "  <thead>\n",
       "    <tr style=\"text-align: right;\">\n",
       "      <th></th>\n",
       "      <th>Close</th>\n",
       "    </tr>\n",
       "  </thead>\n",
       "  <tbody>\n",
       "    <tr>\n",
       "      <th>0</th>\n",
       "      <td>207.800003</td>\n",
       "    </tr>\n",
       "    <tr>\n",
       "      <th>1</th>\n",
       "      <td>204.25</td>\n",
       "    </tr>\n",
       "    <tr>\n",
       "      <th>2</th>\n",
       "      <td>194.550003</td>\n",
       "    </tr>\n",
       "    <tr>\n",
       "      <th>3</th>\n",
       "      <td>199.649994</td>\n",
       "    </tr>\n",
       "    <tr>\n",
       "      <th>4</th>\n",
       "      <td>205.0</td>\n",
       "    </tr>\n",
       "    <tr>\n",
       "      <th>5</th>\n",
       "      <td>202.949997</td>\n",
       "    </tr>\n",
       "    <tr>\n",
       "      <th>6</th>\n",
       "      <td>201.0</td>\n",
       "    </tr>\n",
       "    <tr>\n",
       "      <th>7</th>\n",
       "      <td>218.350006</td>\n",
       "    </tr>\n",
       "    <tr>\n",
       "      <th>8</th>\n",
       "      <td>212.350006</td>\n",
       "    </tr>\n",
       "    <tr>\n",
       "      <th>9</th>\n",
       "      <td>211.350006</td>\n",
       "    </tr>\n",
       "    <tr>\n",
       "      <th>10</th>\n",
       "      <td>208.5</td>\n",
       "    </tr>\n",
       "    <tr>\n",
       "      <th>11</th>\n",
       "      <td>213.149994</td>\n",
       "    </tr>\n",
       "    <tr>\n",
       "      <th>12</th>\n",
       "      <td>214.050003</td>\n",
       "    </tr>\n",
       "    <tr>\n",
       "      <th>13</th>\n",
       "      <td>217.800003</td>\n",
       "    </tr>\n",
       "    <tr>\n",
       "      <th>14</th>\n",
       "      <td>214.850006</td>\n",
       "    </tr>\n",
       "    <tr>\n",
       "      <th>15</th>\n",
       "      <td>213.949997</td>\n",
       "    </tr>\n",
       "    <tr>\n",
       "      <th>16</th>\n",
       "      <td>213.199997</td>\n",
       "    </tr>\n",
       "    <tr>\n",
       "      <th>17</th>\n",
       "      <td>215.649994</td>\n",
       "    </tr>\n",
       "    <tr>\n",
       "      <th>18</th>\n",
       "      <td>217.949997</td>\n",
       "    </tr>\n",
       "    <tr>\n",
       "      <th>19</th>\n",
       "      <td>218.399994</td>\n",
       "    </tr>\n",
       "    <tr>\n",
       "      <th>20</th>\n",
       "      <td>218.649994</td>\n",
       "    </tr>\n",
       "    <tr>\n",
       "      <th>21</th>\n",
       "      <td>220.25</td>\n",
       "    </tr>\n",
       "    <tr>\n",
       "      <th>22</th>\n",
       "      <td>221.449997</td>\n",
       "    </tr>\n",
       "    <tr>\n",
       "      <th>23</th>\n",
       "      <td>217.899994</td>\n",
       "    </tr>\n",
       "    <tr>\n",
       "      <th>24</th>\n",
       "      <td>217.899994</td>\n",
       "    </tr>\n",
       "    <tr>\n",
       "      <th>25</th>\n",
       "      <td>219.699997</td>\n",
       "    </tr>\n",
       "    <tr>\n",
       "      <th>26</th>\n",
       "      <td>219.550003</td>\n",
       "    </tr>\n",
       "    <tr>\n",
       "      <th>27</th>\n",
       "      <td>208.0</td>\n",
       "    </tr>\n",
       "    <tr>\n",
       "      <th>28</th>\n",
       "      <td>211.899994</td>\n",
       "    </tr>\n",
       "  </tbody>\n",
       "</table>\n",
       "</div>"
      ],
      "text/plain": [
       "         Close\n",
       "0   207.800003\n",
       "1       204.25\n",
       "2   194.550003\n",
       "3   199.649994\n",
       "4        205.0\n",
       "5   202.949997\n",
       "6        201.0\n",
       "7   218.350006\n",
       "8   212.350006\n",
       "9   211.350006\n",
       "10       208.5\n",
       "11  213.149994\n",
       "12  214.050003\n",
       "13  217.800003\n",
       "14  214.850006\n",
       "15  213.949997\n",
       "16  213.199997\n",
       "17  215.649994\n",
       "18  217.949997\n",
       "19  218.399994\n",
       "20  218.649994\n",
       "21      220.25\n",
       "22  221.449997\n",
       "23  217.899994\n",
       "24  217.899994\n",
       "25  219.699997\n",
       "26  219.550003\n",
       "27       208.0\n",
       "28  211.899994"
      ]
     },
     "execution_count": 34,
     "metadata": {},
     "output_type": "execute_result"
    }
   ],
   "source": [
    "actual_stock_price_test_oriA"
   ]
  },
  {
   "cell_type": "code",
   "execution_count": null,
   "id": "9ae752b1",
   "metadata": {
    "id": "9ae752b1"
   },
   "outputs": [],
   "source": []
  },
  {
   "cell_type": "code",
   "execution_count": null,
   "id": "b2ad40e7",
   "metadata": {
    "id": "b2ad40e7"
   },
   "outputs": [],
   "source": []
  },
  {
   "cell_type": "code",
   "execution_count": 152,
   "id": "f775803e",
   "metadata": {
    "id": "f775803e"
   },
   "outputs": [
    {
     "data": {
      "text/html": [
       "<div>\n",
       "<style scoped>\n",
       "    .dataframe tbody tr th:only-of-type {\n",
       "        vertical-align: middle;\n",
       "    }\n",
       "\n",
       "    .dataframe tbody tr th {\n",
       "        vertical-align: top;\n",
       "    }\n",
       "\n",
       "    .dataframe thead th {\n",
       "        text-align: right;\n",
       "    }\n",
       "</style>\n",
       "<table border=\"1\" class=\"dataframe\">\n",
       "  <thead>\n",
       "    <tr style=\"text-align: right;\">\n",
       "      <th></th>\n",
       "      <th>Close</th>\n",
       "    </tr>\n",
       "  </thead>\n",
       "  <tbody>\n",
       "    <tr>\n",
       "      <th>0</th>\n",
       "      <td>207.800003</td>\n",
       "    </tr>\n",
       "    <tr>\n",
       "      <th>1</th>\n",
       "      <td>204.25</td>\n",
       "    </tr>\n",
       "    <tr>\n",
       "      <th>2</th>\n",
       "      <td>194.550003</td>\n",
       "    </tr>\n",
       "    <tr>\n",
       "      <th>3</th>\n",
       "      <td>199.649994</td>\n",
       "    </tr>\n",
       "    <tr>\n",
       "      <th>4</th>\n",
       "      <td>205.0</td>\n",
       "    </tr>\n",
       "    <tr>\n",
       "      <th>5</th>\n",
       "      <td>202.949997</td>\n",
       "    </tr>\n",
       "    <tr>\n",
       "      <th>6</th>\n",
       "      <td>201.0</td>\n",
       "    </tr>\n",
       "    <tr>\n",
       "      <th>7</th>\n",
       "      <td>218.350006</td>\n",
       "    </tr>\n",
       "    <tr>\n",
       "      <th>8</th>\n",
       "      <td>212.350006</td>\n",
       "    </tr>\n",
       "    <tr>\n",
       "      <th>9</th>\n",
       "      <td>211.350006</td>\n",
       "    </tr>\n",
       "    <tr>\n",
       "      <th>10</th>\n",
       "      <td>208.5</td>\n",
       "    </tr>\n",
       "    <tr>\n",
       "      <th>11</th>\n",
       "      <td>213.149994</td>\n",
       "    </tr>\n",
       "    <tr>\n",
       "      <th>12</th>\n",
       "      <td>214.050003</td>\n",
       "    </tr>\n",
       "    <tr>\n",
       "      <th>13</th>\n",
       "      <td>217.800003</td>\n",
       "    </tr>\n",
       "    <tr>\n",
       "      <th>14</th>\n",
       "      <td>214.850006</td>\n",
       "    </tr>\n",
       "    <tr>\n",
       "      <th>15</th>\n",
       "      <td>213.949997</td>\n",
       "    </tr>\n",
       "    <tr>\n",
       "      <th>16</th>\n",
       "      <td>213.199997</td>\n",
       "    </tr>\n",
       "    <tr>\n",
       "      <th>17</th>\n",
       "      <td>215.649994</td>\n",
       "    </tr>\n",
       "    <tr>\n",
       "      <th>18</th>\n",
       "      <td>217.949997</td>\n",
       "    </tr>\n",
       "    <tr>\n",
       "      <th>19</th>\n",
       "      <td>218.399994</td>\n",
       "    </tr>\n",
       "    <tr>\n",
       "      <th>20</th>\n",
       "      <td>218.649994</td>\n",
       "    </tr>\n",
       "    <tr>\n",
       "      <th>21</th>\n",
       "      <td>220.25</td>\n",
       "    </tr>\n",
       "    <tr>\n",
       "      <th>22</th>\n",
       "      <td>221.449997</td>\n",
       "    </tr>\n",
       "    <tr>\n",
       "      <th>23</th>\n",
       "      <td>217.899994</td>\n",
       "    </tr>\n",
       "    <tr>\n",
       "      <th>24</th>\n",
       "      <td>217.899994</td>\n",
       "    </tr>\n",
       "    <tr>\n",
       "      <th>25</th>\n",
       "      <td>219.699997</td>\n",
       "    </tr>\n",
       "    <tr>\n",
       "      <th>26</th>\n",
       "      <td>219.550003</td>\n",
       "    </tr>\n",
       "    <tr>\n",
       "      <th>27</th>\n",
       "      <td>208.0</td>\n",
       "    </tr>\n",
       "    <tr>\n",
       "      <th>28</th>\n",
       "      <td>211.899994</td>\n",
       "    </tr>\n",
       "  </tbody>\n",
       "</table>\n",
       "</div>"
      ],
      "text/plain": [
       "         Close\n",
       "0   207.800003\n",
       "1       204.25\n",
       "2   194.550003\n",
       "3   199.649994\n",
       "4        205.0\n",
       "5   202.949997\n",
       "6        201.0\n",
       "7   218.350006\n",
       "8   212.350006\n",
       "9   211.350006\n",
       "10       208.5\n",
       "11  213.149994\n",
       "12  214.050003\n",
       "13  217.800003\n",
       "14  214.850006\n",
       "15  213.949997\n",
       "16  213.199997\n",
       "17  215.649994\n",
       "18  217.949997\n",
       "19  218.399994\n",
       "20  218.649994\n",
       "21      220.25\n",
       "22  221.449997\n",
       "23  217.899994\n",
       "24  217.899994\n",
       "25  219.699997\n",
       "26  219.550003\n",
       "27       208.0\n",
       "28  211.899994"
      ]
     },
     "execution_count": 152,
     "metadata": {},
     "output_type": "execute_result"
    }
   ],
   "source": [
    "from stockFunctions import conversionSingle\n",
    "aTestNormTable=conversionSingle(y_test,[column])\n",
    "actual_stock_price_test_ori=Ms.inverse_transform(aTestNormTable)\n",
    "actual_stock_price_test_oriA=conversionSingle(actual_stock_price_test_ori,[column])\n",
    "actual_stock_price_test_oriA"
   ]
  },
  {
   "cell_type": "code",
   "execution_count": 151,
   "id": "6374db28",
   "metadata": {
    "id": "6374db28"
   },
   "outputs": [
    {
     "data": {
      "text/html": [
       "<div>\n",
       "<style scoped>\n",
       "    .dataframe tbody tr th:only-of-type {\n",
       "        vertical-align: middle;\n",
       "    }\n",
       "\n",
       "    .dataframe tbody tr th {\n",
       "        vertical-align: top;\n",
       "    }\n",
       "\n",
       "    .dataframe thead th {\n",
       "        text-align: right;\n",
       "    }\n",
       "</style>\n",
       "<table border=\"1\" class=\"dataframe\">\n",
       "  <thead>\n",
       "    <tr style=\"text-align: right;\">\n",
       "      <th></th>\n",
       "      <th>Close</th>\n",
       "    </tr>\n",
       "  </thead>\n",
       "  <tbody>\n",
       "    <tr>\n",
       "      <th>0</th>\n",
       "      <td>212.244174</td>\n",
       "    </tr>\n",
       "    <tr>\n",
       "      <th>1</th>\n",
       "      <td>213.220032</td>\n",
       "    </tr>\n",
       "    <tr>\n",
       "      <th>2</th>\n",
       "      <td>214.0559</td>\n",
       "    </tr>\n",
       "    <tr>\n",
       "      <th>3</th>\n",
       "      <td>214.775336</td>\n",
       "    </tr>\n",
       "    <tr>\n",
       "      <th>4</th>\n",
       "      <td>215.39793</td>\n",
       "    </tr>\n",
       "    <tr>\n",
       "      <th>5</th>\n",
       "      <td>215.939978</td>\n",
       "    </tr>\n",
       "    <tr>\n",
       "      <th>6</th>\n",
       "      <td>216.415034</td>\n",
       "    </tr>\n",
       "    <tr>\n",
       "      <th>7</th>\n",
       "      <td>216.83437</td>\n",
       "    </tr>\n",
       "    <tr>\n",
       "      <th>8</th>\n",
       "      <td>217.207361</td>\n",
       "    </tr>\n",
       "    <tr>\n",
       "      <th>9</th>\n",
       "      <td>217.541808</td>\n",
       "    </tr>\n",
       "    <tr>\n",
       "      <th>10</th>\n",
       "      <td>217.844194</td>\n",
       "    </tr>\n",
       "    <tr>\n",
       "      <th>11</th>\n",
       "      <td>218.119915</td>\n",
       "    </tr>\n",
       "    <tr>\n",
       "      <th>12</th>\n",
       "      <td>218.373458</td>\n",
       "    </tr>\n",
       "    <tr>\n",
       "      <th>13</th>\n",
       "      <td>218.608555</td>\n",
       "    </tr>\n",
       "    <tr>\n",
       "      <th>14</th>\n",
       "      <td>218.828309</td>\n",
       "    </tr>\n",
       "    <tr>\n",
       "      <th>15</th>\n",
       "      <td>219.035303</td>\n",
       "    </tr>\n",
       "    <tr>\n",
       "      <th>16</th>\n",
       "      <td>219.231683</td>\n",
       "    </tr>\n",
       "    <tr>\n",
       "      <th>17</th>\n",
       "      <td>219.419235</td>\n",
       "    </tr>\n",
       "    <tr>\n",
       "      <th>18</th>\n",
       "      <td>219.599445</td>\n",
       "    </tr>\n",
       "    <tr>\n",
       "      <th>19</th>\n",
       "      <td>219.773549</td>\n",
       "    </tr>\n",
       "    <tr>\n",
       "      <th>20</th>\n",
       "      <td>219.942573</td>\n",
       "    </tr>\n",
       "    <tr>\n",
       "      <th>21</th>\n",
       "      <td>220.107373</td>\n",
       "    </tr>\n",
       "    <tr>\n",
       "      <th>22</th>\n",
       "      <td>220.268659</td>\n",
       "    </tr>\n",
       "    <tr>\n",
       "      <th>23</th>\n",
       "      <td>220.427023</td>\n",
       "    </tr>\n",
       "    <tr>\n",
       "      <th>24</th>\n",
       "      <td>220.582956</td>\n",
       "    </tr>\n",
       "    <tr>\n",
       "      <th>25</th>\n",
       "      <td>220.736867</td>\n",
       "    </tr>\n",
       "    <tr>\n",
       "      <th>26</th>\n",
       "      <td>220.889097</td>\n",
       "    </tr>\n",
       "    <tr>\n",
       "      <th>27</th>\n",
       "      <td>221.039928</td>\n",
       "    </tr>\n",
       "    <tr>\n",
       "      <th>28</th>\n",
       "      <td>221.189596</td>\n",
       "    </tr>\n",
       "  </tbody>\n",
       "</table>\n",
       "</div>"
      ],
      "text/plain": [
       "         Close\n",
       "0   212.244174\n",
       "1   213.220032\n",
       "2     214.0559\n",
       "3   214.775336\n",
       "4    215.39793\n",
       "5   215.939978\n",
       "6   216.415034\n",
       "7    216.83437\n",
       "8   217.207361\n",
       "9   217.541808\n",
       "10  217.844194\n",
       "11  218.119915\n",
       "12  218.373458\n",
       "13  218.608555\n",
       "14  218.828309\n",
       "15  219.035303\n",
       "16  219.231683\n",
       "17  219.419235\n",
       "18  219.599445\n",
       "19  219.773549\n",
       "20  219.942573\n",
       "21  220.107373\n",
       "22  220.268659\n",
       "23  220.427023\n",
       "24  220.582956\n",
       "25  220.736867\n",
       "26  220.889097\n",
       "27  221.039928\n",
       "28  221.189596"
      ]
     },
     "execution_count": 151,
     "metadata": {},
     "output_type": "execute_result"
    }
   ],
   "source": [
    "from stockFunctions import conversionSingle\n",
    "pTestNormTable=conversionSingle(y_pred,[column])\n",
    "predicted_stock_price_test_ori=Ms.inverse_transform(pTestNormTable)\n",
    "predicted_stock_price_test_oriP=conversionSingle(predicted_stock_price_test_ori,[column])\n",
    "predicted_stock_price_test_oriP\n"
   ]
  },
  {
   "cell_type": "code",
   "execution_count": 141,
   "id": "e2881d33",
   "metadata": {
    "id": "e2881d33",
    "outputId": "5a075ccc-ef89-48ba-97e7-3382f338e276"
   },
   "outputs": [
    {
     "data": {
      "image/png": "[encoded data removed]",
      "text/plain": [
       "<Figure size 1000x500 with 1 Axes>"
      ]
     },
     "metadata": {},
     "output_type": "display_data"
    }
   ],
   "source": [
    "from stockFunctions import graph\n",
    "graph(actual_stock_price_test_oriA,predicted_stock_price_test_oriP,\"Actual\",\"Predicted\",\"TataCoffee-Close-AR-Ori\",\"Days\",\"Prices\")"
   ]
  },
  {
   "cell_type": "code",
   "execution_count": 142,
   "id": "4b72a03b",
   "metadata": {
    "id": "4b72a03b",
    "outputId": "813d76fd-f3f0-42ff-bc3a-c5ebecf00730"
   },
   "outputs": [
    {
     "name": "stdout",
     "output_type": "stream",
     "text": [
      "RMSE-Testset: 7.861508136472637\n",
      "maPe-Testset: 0.028929846911169586\n"
     ]
    }
   ],
   "source": [
    "from stockFunctions import rmsemape\n",
    "rmsemape(actual_stock_price_test_oriA,predicted_stock_price_test_oriP)"
   ]
  },
  {
   "cell_type": "code",
   "execution_count": 39,
   "id": "9e23d146-50a9-4a95-a5bf-e25b00e79364",
   "metadata": {},
   "outputs": [
    {
     "data": {
      "text/plain": [
       "143"
      ]
     },
     "execution_count": 39,
     "metadata": {},
     "output_type": "execute_result"
    }
   ],
   "source": [
    "len(data1)"
   ]
  },
  {
   "cell_type": "code",
   "execution_count": 143,
   "id": "e9e5ff09",
   "metadata": {
    "id": "e9e5ff09"
   },
   "outputs": [],
   "source": [
    "forecast=model_fit.predict(len(data1),len(data1)+2)"
   ]
  },
  {
   "cell_type": "code",
   "execution_count": 144,
   "id": "b4bb25ca",
   "metadata": {
    "id": "b4bb25ca",
    "outputId": "f12da24a-0fa1-4a0b-d0d2-dbc23e88e948"
   },
   "outputs": [
    {
     "data": {
      "text/plain": [
       "array([0.73268569, 0.73541944, 0.73814082])"
      ]
     },
     "execution_count": 144,
     "metadata": {},
     "output_type": "execute_result"
    }
   ],
   "source": [
    "forecast"
   ]
  },
  {
   "cell_type": "code",
   "execution_count": 145,
   "id": "6c8d1126",
   "metadata": {
    "id": "6c8d1126"
   },
   "outputs": [],
   "source": [
    "from stockFunctions import conversionSingle\n",
    "fTestNormTable=conversionSingle(forecast,[\"Close_forecast\"])\n",
    "forecast_stock_price_test_ori=Ms.inverse_transform(fTestNormTable)\n",
    "forecast_stock_price_test_oriF=conversionSingle(forecast_stock_price_test_ori,[\"Close_forecast\"])"
   ]
  },
  {
   "cell_type": "code",
   "execution_count": 146,
   "id": "e89d82d4",
   "metadata": {
    "id": "e89d82d4",
    "outputId": "7af69686-afaf-4e26-d086-b4ac70dc81f0"
   },
   "outputs": [
    {
     "data": {
      "text/html": [
       "<div>\n",
       "<style scoped>\n",
       "    .dataframe tbody tr th:only-of-type {\n",
       "        vertical-align: middle;\n",
       "    }\n",
       "\n",
       "    .dataframe tbody tr th {\n",
       "        vertical-align: top;\n",
       "    }\n",
       "\n",
       "    .dataframe thead th {\n",
       "        text-align: right;\n",
       "    }\n",
       "</style>\n",
       "<table border=\"1\" class=\"dataframe\">\n",
       "  <thead>\n",
       "    <tr style=\"text-align: right;\">\n",
       "      <th></th>\n",
       "      <th>Close_forecast</th>\n",
       "    </tr>\n",
       "  </thead>\n",
       "  <tbody>\n",
       "    <tr>\n",
       "      <th>0</th>\n",
       "      <td>221.338297</td>\n",
       "    </tr>\n",
       "    <tr>\n",
       "      <th>1</th>\n",
       "      <td>221.486193</td>\n",
       "    </tr>\n",
       "    <tr>\n",
       "      <th>2</th>\n",
       "      <td>221.63342</td>\n",
       "    </tr>\n",
       "  </tbody>\n",
       "</table>\n",
       "</div>"
      ],
      "text/plain": [
       "  Close_forecast\n",
       "0     221.338297\n",
       "1     221.486193\n",
       "2      221.63342"
      ]
     },
     "execution_count": 146,
     "metadata": {},
     "output_type": "execute_result"
    }
   ],
   "source": [
    "forecast_stock_price_test_oriF"
   ]
  },
  {
   "cell_type": "code",
   "execution_count": 44,
   "id": "6273d5a9",
   "metadata": {
    "id": "6273d5a9"
   },
   "outputs": [],
   "source": [
    "forecast_stock_price_test_oriF.to_csv(\"CloseAR.csv\",index=False)"
   ]
  },
  {
   "cell_type": "code",
   "execution_count": 45,
   "id": "2d0e8c5d-561c-408a-8732-2f95ba8e3575",
   "metadata": {},
   "outputs": [
    {
     "data": {
      "text/html": [
       "<div>\n",
       "<style scoped>\n",
       "    .dataframe tbody tr th:only-of-type {\n",
       "        vertical-align: middle;\n",
       "    }\n",
       "\n",
       "    .dataframe tbody tr th {\n",
       "        vertical-align: top;\n",
       "    }\n",
       "\n",
       "    .dataframe thead th {\n",
       "        text-align: right;\n",
       "    }\n",
       "</style>\n",
       "<table border=\"1\" class=\"dataframe\">\n",
       "  <thead>\n",
       "    <tr style=\"text-align: right;\">\n",
       "      <th></th>\n",
       "      <th>Close_forecast</th>\n",
       "    </tr>\n",
       "  </thead>\n",
       "  <tbody>\n",
       "    <tr>\n",
       "      <th>0</th>\n",
       "      <td>221.338297</td>\n",
       "    </tr>\n",
       "    <tr>\n",
       "      <th>1</th>\n",
       "      <td>221.486193</td>\n",
       "    </tr>\n",
       "    <tr>\n",
       "      <th>2</th>\n",
       "      <td>221.63342</td>\n",
       "    </tr>\n",
       "  </tbody>\n",
       "</table>\n",
       "</div>"
      ],
      "text/plain": [
       "  Close_forecast\n",
       "0     221.338297\n",
       "1     221.486193\n",
       "2      221.63342"
      ]
     },
     "execution_count": 45,
     "metadata": {},
     "output_type": "execute_result"
    }
   ],
   "source": [
    "forecast_stock_price_test_oriF"
   ]
  },
  {
   "cell_type": "code",
   "execution_count": 150,
   "id": "d3b0a4c4",
   "metadata": {
    "id": "d3b0a4c4",
    "outputId": "abd5dea4-5c3a-4226-cafd-4ee656029891"
   },
   "outputs": [
    {
     "data": {
      "image/png": "[encoded data removed]",
      "text/plain": [
       "<Figure size 1000x500 with 1 Axes>"
      ]
     },
     "metadata": {},
     "output_type": "display_data"
    }
   ],
   "source": [
    "import matplotlib.pyplot as plt\n",
    "plt.figure(figsize=(10,5))\n",
    "plt.plot(actual_stock_price_test_oriA, color = 'blue', label=\"Actual\")\n",
    "plt.plot(forecast_stock_price_test_oriF, color = 'red', label =\"Predicted\")\n",
    "plt.show()"
   ]
  }
 ],
 "metadata": {
  "colab": {
   "provenance": []
  },
  "kernelspec": {
   "display_name": "Python 3 (ipykernel)",
   "language": "python",
   "name": "python3"
  },
  "language_info": {
   "codemirror_mode": {
    "name": "ipython",
    "version": 3
   },
   "file_extension": ".py",
   "mimetype": "text/x-python",
   "name": "python",
   "nbconvert_exporter": "python",
   "pygments_lexer": "ipython3",
   "version": "3.11.4"
  }
 },
 "nbformat": 4,
 "nbformat_minor": 5
}
