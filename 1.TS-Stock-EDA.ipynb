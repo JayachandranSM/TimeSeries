{
 "cells": [
  {
   "cell_type": "code",
   "execution_count": 32,
   "metadata": {},
   "outputs": [],
   "source": [
    "#pip install nsepy\n",
    "#!pip install yfinance"
   ]
  },
  {
   "cell_type": "code",
   "execution_count": 1,
   "metadata": {},
   "outputs": [],
   "source": [
    "from Descriptive import Descriptive"
   ]
  },
  {
   "cell_type": "code",
   "execution_count": 8,
   "metadata": {},
   "outputs": [],
   "source": [
    "obj=Descriptive()"
   ]
  },
  {
   "cell_type": "code",
   "execution_count": 3,
   "metadata": {},
   "outputs": [
    {
     "data": {
      "text/plain": [
       "'3.11.4'"
      ]
     },
     "execution_count": 3,
     "metadata": {},
     "output_type": "execute_result"
    }
   ],
   "source": [
    "import platform\n",
    "platform.python_version()"
   ]
  },
  {
   "cell_type": "code",
   "execution_count": 2,
   "metadata": {},
   "outputs": [
    {
     "name": "stdout",
     "output_type": "stream",
     "text": [
      "[*********************100%%**********************]  1 of 1 completed\n"
     ]
    }
   ],
   "source": [
    "#from nsepy import  get_history as gh \n",
    "import yfinance as yf\n",
    "import datetime as dt\n",
    "start = dt.datetime(2021,6,1)\n",
    "end = dt.datetime(2022,1,5)\n",
    "stk_data = yf.download('TATACOFFEE.NS', start=start, end=end)"
   ]
  },
  {
   "cell_type": "code",
   "execution_count": 3,
   "metadata": {},
   "outputs": [
    {
     "name": "stdout",
     "output_type": "stream",
     "text": [
      "<class 'pandas.core.frame.DataFrame'>\n",
      "DatetimeIndex: 150 entries, 2021-06-01 to 2022-01-04\n",
      "Data columns (total 6 columns):\n",
      " #   Column     Non-Null Count  Dtype  \n",
      "---  ------     --------------  -----  \n",
      " 0   Open       150 non-null    float64\n",
      " 1   High       150 non-null    float64\n",
      " 2   Low        150 non-null    float64\n",
      " 3   Close      150 non-null    float64\n",
      " 4   Adj Close  150 non-null    float64\n",
      " 5   Volume     150 non-null    int64  \n",
      "dtypes: float64(5), int64(1)\n",
      "memory usage: 8.2 KB\n"
     ]
    }
   ],
   "source": [
    "stk_data.info()"
   ]
  },
  {
   "cell_type": "code",
   "execution_count": 4,
   "metadata": {},
   "outputs": [
    {
     "data": {
      "text/html": [
       "<div>\n",
       "<style scoped>\n",
       "    .dataframe tbody tr th:only-of-type {\n",
       "        vertical-align: middle;\n",
       "    }\n",
       "\n",
       "    .dataframe tbody tr th {\n",
       "        vertical-align: top;\n",
       "    }\n",
       "\n",
       "    .dataframe thead th {\n",
       "        text-align: right;\n",
       "    }\n",
       "</style>\n",
       "<table border=\"1\" class=\"dataframe\">\n",
       "  <thead>\n",
       "    <tr style=\"text-align: right;\">\n",
       "      <th></th>\n",
       "      <th>Open</th>\n",
       "      <th>High</th>\n",
       "      <th>Low</th>\n",
       "      <th>Close</th>\n",
       "      <th>Adj Close</th>\n",
       "      <th>Volume</th>\n",
       "    </tr>\n",
       "    <tr>\n",
       "      <th>Date</th>\n",
       "      <th></th>\n",
       "      <th></th>\n",
       "      <th></th>\n",
       "      <th></th>\n",
       "      <th></th>\n",
       "      <th></th>\n",
       "    </tr>\n",
       "  </thead>\n",
       "  <tbody>\n",
       "    <tr>\n",
       "      <th>2021-06-01</th>\n",
       "      <td>180.000000</td>\n",
       "      <td>181.350006</td>\n",
       "      <td>172.649994</td>\n",
       "      <td>174.250000</td>\n",
       "      <td>170.310501</td>\n",
       "      <td>2952622</td>\n",
       "    </tr>\n",
       "    <tr>\n",
       "      <th>2021-06-02</th>\n",
       "      <td>173.550003</td>\n",
       "      <td>175.649994</td>\n",
       "      <td>172.050003</td>\n",
       "      <td>174.000000</td>\n",
       "      <td>170.066162</td>\n",
       "      <td>2097000</td>\n",
       "    </tr>\n",
       "    <tr>\n",
       "      <th>2021-06-03</th>\n",
       "      <td>176.899994</td>\n",
       "      <td>178.699997</td>\n",
       "      <td>175.600006</td>\n",
       "      <td>176.699997</td>\n",
       "      <td>172.705124</td>\n",
       "      <td>2329087</td>\n",
       "    </tr>\n",
       "    <tr>\n",
       "      <th>2021-06-04</th>\n",
       "      <td>177.899994</td>\n",
       "      <td>177.899994</td>\n",
       "      <td>173.750000</td>\n",
       "      <td>174.350006</td>\n",
       "      <td>170.408249</td>\n",
       "      <td>1339871</td>\n",
       "    </tr>\n",
       "    <tr>\n",
       "      <th>2021-06-07</th>\n",
       "      <td>176.399994</td>\n",
       "      <td>176.649994</td>\n",
       "      <td>173.000000</td>\n",
       "      <td>174.350006</td>\n",
       "      <td>170.408249</td>\n",
       "      <td>1705257</td>\n",
       "    </tr>\n",
       "    <tr>\n",
       "      <th>...</th>\n",
       "      <td>...</td>\n",
       "      <td>...</td>\n",
       "      <td>...</td>\n",
       "      <td>...</td>\n",
       "      <td>...</td>\n",
       "      <td>...</td>\n",
       "    </tr>\n",
       "    <tr>\n",
       "      <th>2021-12-29</th>\n",
       "      <td>213.000000</td>\n",
       "      <td>216.699997</td>\n",
       "      <td>210.000000</td>\n",
       "      <td>211.350006</td>\n",
       "      <td>206.571747</td>\n",
       "      <td>2708289</td>\n",
       "    </tr>\n",
       "    <tr>\n",
       "      <th>2021-12-30</th>\n",
       "      <td>211.449997</td>\n",
       "      <td>211.500000</td>\n",
       "      <td>207.899994</td>\n",
       "      <td>208.500000</td>\n",
       "      <td>203.786179</td>\n",
       "      <td>977484</td>\n",
       "    </tr>\n",
       "    <tr>\n",
       "      <th>2021-12-31</th>\n",
       "      <td>208.899994</td>\n",
       "      <td>216.199997</td>\n",
       "      <td>208.399994</td>\n",
       "      <td>213.149994</td>\n",
       "      <td>208.331039</td>\n",
       "      <td>3045699</td>\n",
       "    </tr>\n",
       "    <tr>\n",
       "      <th>2022-01-03</th>\n",
       "      <td>213.949997</td>\n",
       "      <td>216.899994</td>\n",
       "      <td>212.300003</td>\n",
       "      <td>214.050003</td>\n",
       "      <td>209.210709</td>\n",
       "      <td>1525259</td>\n",
       "    </tr>\n",
       "    <tr>\n",
       "      <th>2022-01-04</th>\n",
       "      <td>214.899994</td>\n",
       "      <td>220.800003</td>\n",
       "      <td>212.449997</td>\n",
       "      <td>217.800003</td>\n",
       "      <td>212.875916</td>\n",
       "      <td>3477443</td>\n",
       "    </tr>\n",
       "  </tbody>\n",
       "</table>\n",
       "<p>150 rows × 6 columns</p>\n",
       "</div>"
      ],
      "text/plain": [
       "                  Open        High         Low       Close   Adj Close  \\\n",
       "Date                                                                     \n",
       "2021-06-01  180.000000  181.350006  172.649994  174.250000  170.310501   \n",
       "2021-06-02  173.550003  175.649994  172.050003  174.000000  170.066162   \n",
       "2021-06-03  176.899994  178.699997  175.600006  176.699997  172.705124   \n",
       "2021-06-04  177.899994  177.899994  173.750000  174.350006  170.408249   \n",
       "2021-06-07  176.399994  176.649994  173.000000  174.350006  170.408249   \n",
       "...                ...         ...         ...         ...         ...   \n",
       "2021-12-29  213.000000  216.699997  210.000000  211.350006  206.571747   \n",
       "2021-12-30  211.449997  211.500000  207.899994  208.500000  203.786179   \n",
       "2021-12-31  208.899994  216.199997  208.399994  213.149994  208.331039   \n",
       "2022-01-03  213.949997  216.899994  212.300003  214.050003  209.210709   \n",
       "2022-01-04  214.899994  220.800003  212.449997  217.800003  212.875916   \n",
       "\n",
       "             Volume  \n",
       "Date                 \n",
       "2021-06-01  2952622  \n",
       "2021-06-02  2097000  \n",
       "2021-06-03  2329087  \n",
       "2021-06-04  1339871  \n",
       "2021-06-07  1705257  \n",
       "...             ...  \n",
       "2021-12-29  2708289  \n",
       "2021-12-30   977484  \n",
       "2021-12-31  3045699  \n",
       "2022-01-03  1525259  \n",
       "2022-01-04  3477443  \n",
       "\n",
       "[150 rows x 6 columns]"
      ]
     },
     "execution_count": 4,
     "metadata": {},
     "output_type": "execute_result"
    }
   ],
   "source": [
    "stk_data"
   ]
  },
  {
   "cell_type": "code",
   "execution_count": 9,
   "metadata": {},
   "outputs": [
    {
     "data": {
      "text/plain": [
       "Date\n",
       "2021-06-01    172.649994\n",
       "2021-06-02    172.050003\n",
       "2021-06-03    175.600006\n",
       "2021-06-04    173.750000\n",
       "2021-06-07    173.000000\n",
       "                 ...    \n",
       "2021-12-29    210.000000\n",
       "2021-12-30    207.899994\n",
       "2021-12-31    208.399994\n",
       "2022-01-03    212.300003\n",
       "2022-01-04    212.449997\n",
       "Name: Low, Length: 150, dtype: float64"
      ]
     },
     "execution_count": 9,
     "metadata": {},
     "output_type": "execute_result"
    }
   ],
   "source": [
    "low=stk_data[\"Low\"]\n",
    "low"
   ]
  },
  {
   "cell_type": "code",
   "execution_count": 10,
   "metadata": {},
   "outputs": [
    {
     "name": "stdout",
     "output_type": "stream",
     "text": [
      "The Quantitative Data: ['Open', 'High', 'Low', 'Close', 'Adj Close', 'Volume']\n",
      "The Qualtitative Data []\n"
     ]
    }
   ],
   "source": [
    "dataset=stk_data\n",
    "quan,qual=obj.segreQuanQual(dataset)"
   ]
  },
  {
   "cell_type": "code",
   "execution_count": 11,
   "metadata": {},
   "outputs": [],
   "source": [
    "des_data=obj.descriptive_Analysis(dataset,quan)"
   ]
  },
  {
   "cell_type": "code",
   "execution_count": 12,
   "metadata": {},
   "outputs": [
    {
     "data": {
      "text/html": [
       "<div>\n",
       "<style scoped>\n",
       "    .dataframe tbody tr th:only-of-type {\n",
       "        vertical-align: middle;\n",
       "    }\n",
       "\n",
       "    .dataframe tbody tr th {\n",
       "        vertical-align: top;\n",
       "    }\n",
       "\n",
       "    .dataframe thead th {\n",
       "        text-align: right;\n",
       "    }\n",
       "</style>\n",
       "<table border=\"1\" class=\"dataframe\">\n",
       "  <thead>\n",
       "    <tr style=\"text-align: right;\">\n",
       "      <th></th>\n",
       "      <th>Open</th>\n",
       "      <th>High</th>\n",
       "      <th>Low</th>\n",
       "      <th>Close</th>\n",
       "      <th>Adj Close</th>\n",
       "      <th>Volume</th>\n",
       "    </tr>\n",
       "  </thead>\n",
       "  <tbody>\n",
       "    <tr>\n",
       "      <th>Null_count</th>\n",
       "      <td>0</td>\n",
       "      <td>0</td>\n",
       "      <td>0</td>\n",
       "      <td>0</td>\n",
       "      <td>0</td>\n",
       "      <td>0</td>\n",
       "    </tr>\n",
       "    <tr>\n",
       "      <th>NonNull_count</th>\n",
       "      <td>150</td>\n",
       "      <td>150</td>\n",
       "      <td>150</td>\n",
       "      <td>150</td>\n",
       "      <td>150</td>\n",
       "      <td>150</td>\n",
       "    </tr>\n",
       "    <tr>\n",
       "      <th>Total_Count</th>\n",
       "      <td>150</td>\n",
       "      <td>150</td>\n",
       "      <td>150</td>\n",
       "      <td>150</td>\n",
       "      <td>150</td>\n",
       "      <td>150</td>\n",
       "    </tr>\n",
       "    <tr>\n",
       "      <th>Mean</th>\n",
       "      <td>204.625999</td>\n",
       "      <td>208.295999</td>\n",
       "      <td>200.678334</td>\n",
       "      <td>203.988</td>\n",
       "      <td>199.376184</td>\n",
       "      <td>3416653.046667</td>\n",
       "    </tr>\n",
       "    <tr>\n",
       "      <th>Median</th>\n",
       "      <td>207.050003</td>\n",
       "      <td>210.025002</td>\n",
       "      <td>203.650002</td>\n",
       "      <td>206.325005</td>\n",
       "      <td>201.660347</td>\n",
       "      <td>1993923.5</td>\n",
       "    </tr>\n",
       "    <tr>\n",
       "      <th>Mode</th>\n",
       "      <td>213.0</td>\n",
       "      <td>178.699997</td>\n",
       "      <td>196.0</td>\n",
       "      <td>174.350006</td>\n",
       "      <td>170.408249</td>\n",
       "      <td>516071</td>\n",
       "    </tr>\n",
       "    <tr>\n",
       "      <th>Std</th>\n",
       "      <td>15.163345</td>\n",
       "      <td>15.801586</td>\n",
       "      <td>14.599274</td>\n",
       "      <td>14.780638</td>\n",
       "      <td>14.446473</td>\n",
       "      <td>4471796.088281</td>\n",
       "    </tr>\n",
       "    <tr>\n",
       "      <th>Min</th>\n",
       "      <td>170.050003</td>\n",
       "      <td>175.649994</td>\n",
       "      <td>168.0</td>\n",
       "      <td>172.899994</td>\n",
       "      <td>168.991013</td>\n",
       "      <td>516071.0</td>\n",
       "    </tr>\n",
       "    <tr>\n",
       "      <th>Q1:25%</th>\n",
       "      <td>193.387501</td>\n",
       "      <td>197.975006</td>\n",
       "      <td>189.700001</td>\n",
       "      <td>193.275005</td>\n",
       "      <td>188.905396</td>\n",
       "      <td>1327190.75</td>\n",
       "    </tr>\n",
       "    <tr>\n",
       "      <th>Q2:50%</th>\n",
       "      <td>207.050003</td>\n",
       "      <td>210.025002</td>\n",
       "      <td>203.650002</td>\n",
       "      <td>206.325005</td>\n",
       "      <td>201.660347</td>\n",
       "      <td>1993923.5</td>\n",
       "    </tr>\n",
       "    <tr>\n",
       "      <th>Q3:75%</th>\n",
       "      <td>213.799995</td>\n",
       "      <td>217.75</td>\n",
       "      <td>210.199997</td>\n",
       "      <td>213.149994</td>\n",
       "      <td>208.331039</td>\n",
       "      <td>3353345.25</td>\n",
       "    </tr>\n",
       "    <tr>\n",
       "      <th>Q4:100%</th>\n",
       "      <td>241.0</td>\n",
       "      <td>254.399994</td>\n",
       "      <td>231.25</td>\n",
       "      <td>235.800003</td>\n",
       "      <td>230.468979</td>\n",
       "      <td>35578033.0</td>\n",
       "    </tr>\n",
       "    <tr>\n",
       "      <th>IQR</th>\n",
       "      <td>20.412495</td>\n",
       "      <td>19.774994</td>\n",
       "      <td>20.499996</td>\n",
       "      <td>19.874989</td>\n",
       "      <td>19.425644</td>\n",
       "      <td>2026154.5</td>\n",
       "    </tr>\n",
       "    <tr>\n",
       "      <th>1.5Rule</th>\n",
       "      <td>30.618742</td>\n",
       "      <td>29.662491</td>\n",
       "      <td>30.749994</td>\n",
       "      <td>29.812483</td>\n",
       "      <td>29.138466</td>\n",
       "      <td>3039231.75</td>\n",
       "    </tr>\n",
       "    <tr>\n",
       "      <th>Lesser</th>\n",
       "      <td>162.768759</td>\n",
       "      <td>168.312515</td>\n",
       "      <td>158.950006</td>\n",
       "      <td>163.462523</td>\n",
       "      <td>159.76693</td>\n",
       "      <td>-1712041.0</td>\n",
       "    </tr>\n",
       "    <tr>\n",
       "      <th>Greater</th>\n",
       "      <td>244.418737</td>\n",
       "      <td>247.412491</td>\n",
       "      <td>240.949991</td>\n",
       "      <td>242.962477</td>\n",
       "      <td>237.469505</td>\n",
       "      <td>6392577.0</td>\n",
       "    </tr>\n",
       "  </tbody>\n",
       "</table>\n",
       "</div>"
      ],
      "text/plain": [
       "                     Open        High         Low       Close   Adj Close  \\\n",
       "Null_count              0           0           0           0           0   \n",
       "NonNull_count         150         150         150         150         150   \n",
       "Total_Count           150         150         150         150         150   \n",
       "Mean           204.625999  208.295999  200.678334     203.988  199.376184   \n",
       "Median         207.050003  210.025002  203.650002  206.325005  201.660347   \n",
       "Mode                213.0  178.699997       196.0  174.350006  170.408249   \n",
       "Std             15.163345   15.801586   14.599274   14.780638   14.446473   \n",
       "Min            170.050003  175.649994       168.0  172.899994  168.991013   \n",
       "Q1:25%         193.387501  197.975006  189.700001  193.275005  188.905396   \n",
       "Q2:50%         207.050003  210.025002  203.650002  206.325005  201.660347   \n",
       "Q3:75%         213.799995      217.75  210.199997  213.149994  208.331039   \n",
       "Q4:100%             241.0  254.399994      231.25  235.800003  230.468979   \n",
       "IQR             20.412495   19.774994   20.499996   19.874989   19.425644   \n",
       "1.5Rule         30.618742   29.662491   30.749994   29.812483   29.138466   \n",
       "Lesser         162.768759  168.312515  158.950006  163.462523   159.76693   \n",
       "Greater        244.418737  247.412491  240.949991  242.962477  237.469505   \n",
       "\n",
       "                       Volume  \n",
       "Null_count                  0  \n",
       "NonNull_count             150  \n",
       "Total_Count               150  \n",
       "Mean           3416653.046667  \n",
       "Median              1993923.5  \n",
       "Mode                   516071  \n",
       "Std            4471796.088281  \n",
       "Min                  516071.0  \n",
       "Q1:25%             1327190.75  \n",
       "Q2:50%              1993923.5  \n",
       "Q3:75%             3353345.25  \n",
       "Q4:100%            35578033.0  \n",
       "IQR                 2026154.5  \n",
       "1.5Rule            3039231.75  \n",
       "Lesser             -1712041.0  \n",
       "Greater             6392577.0  "
      ]
     },
     "execution_count": 12,
     "metadata": {},
     "output_type": "execute_result"
    }
   ],
   "source": [
    "des_data"
   ]
  },
  {
   "cell_type": "code",
   "execution_count": 13,
   "metadata": {},
   "outputs": [
    {
     "data": {
      "text/plain": [
       "Null_count                0\n",
       "NonNull_count           150\n",
       "Total_Count             150\n",
       "Mean             200.678334\n",
       "Median           203.650002\n",
       "Mode                  196.0\n",
       "Std               14.599274\n",
       "Min                   168.0\n",
       "Q1:25%           189.700001\n",
       "Q2:50%           203.650002\n",
       "Q3:75%           210.199997\n",
       "Q4:100%              231.25\n",
       "IQR               20.499996\n",
       "1.5Rule           30.749994\n",
       "Lesser           158.950006\n",
       "Greater          240.949991\n",
       "Name: Low, dtype: object"
      ]
     },
     "execution_count": 13,
     "metadata": {},
     "output_type": "execute_result"
    }
   ],
   "source": [
    "des_data[\"Low\"]"
   ]
  },
  {
   "cell_type": "code",
   "execution_count": 14,
   "metadata": {},
   "outputs": [
    {
     "data": {
      "text/plain": [
       "Null_count                0\n",
       "NonNull_count           150\n",
       "Total_Count             150\n",
       "Mean             208.295999\n",
       "Median           210.025002\n",
       "Mode             178.699997\n",
       "Std               15.801586\n",
       "Min              175.649994\n",
       "Q1:25%           197.975006\n",
       "Q2:50%           210.025002\n",
       "Q3:75%               217.75\n",
       "Q4:100%          254.399994\n",
       "IQR               19.774994\n",
       "1.5Rule           29.662491\n",
       "Lesser           168.312515\n",
       "Greater          247.412491\n",
       "Name: High, dtype: object"
      ]
     },
     "execution_count": 14,
     "metadata": {},
     "output_type": "execute_result"
    }
   ],
   "source": [
    "des_data[\"High\"]"
   ]
  },
  {
   "cell_type": "code",
   "execution_count": 15,
   "metadata": {},
   "outputs": [],
   "source": [
    "import numpy as np"
   ]
  },
  {
   "cell_type": "code",
   "execution_count": 18,
   "metadata": {},
   "outputs": [
    {
     "data": {
      "text/plain": [
       "227.83600311279298"
      ]
     },
     "execution_count": 18,
     "metadata": {},
     "output_type": "execute_result"
    }
   ],
   "source": [
    "np.percentile(dataset[\"Low\"],98)"
   ]
  },
  {
   "cell_type": "code",
   "execution_count": 17,
   "metadata": {},
   "outputs": [
    {
     "data": {
      "text/plain": [
       "225.89999999999998"
      ]
     },
     "execution_count": 17,
     "metadata": {},
     "output_type": "execute_result"
    }
   ],
   "source": [
    "np.percentile(dataset[\"High\"],90)"
   ]
  },
  {
   "cell_type": "code",
   "execution_count": 41,
   "metadata": {},
   "outputs": [],
   "source": [
    "def get_pdf_probability(dataset,startrange,endrange):\n",
    "    from matplotlib import pyplot\n",
    "    from scipy.stats import norm\n",
    "    import seaborn as sns\n",
    "    ax = sns.distplot(dataset,kde=True,kde_kws={'color':'blue'},color='Green')\n",
    "    pyplot.axvline(startrange,color='Red')\n",
    "    pyplot.axvline(endrange,color='Red')\n",
    "    # generate a sample\n",
    "    sample = dataset\n",
    "    # calculate parameters\n",
    "    sample_mean =sample.mean()\n",
    "    sample_std = sample.std()\n",
    "    print('Mean=%.3f, Standard Deviation=%.3f' % (sample_mean, sample_std))\n",
    "    # define the distribution\n",
    "    dist = norm(sample_mean, sample_std)\n",
    "    \n",
    "    # sample probabilities for a range of outcomes\n",
    "    values = [value for value in range(startrange, endrange)]\n",
    "    probabilities = [dist.pdf(value) for value in values]    \n",
    "    prob=sum(probabilities)\n",
    "    print(\"The area between range({},{}):{}\".format(startrange,endrange,sum(probabilities)))\n",
    "    return probabilities"
   ]
  },
  {
   "cell_type": "code",
   "execution_count": 42,
   "metadata": {},
   "outputs": [
    {
     "name": "stdout",
     "output_type": "stream",
     "text": [
      "Mean=200.678, Standard Deviation=14.599\n",
      "The area between range(219,230):0.08689186756844616\n"
     ]
    },
    {
     "name": "stderr",
     "output_type": "stream",
     "text": [
      "C:\\Users\\YAS\\AppData\\Local\\Temp\\ipykernel_12792\\4215328587.py:5: UserWarning: \n",
      "\n",
      "`distplot` is a deprecated function and will be removed in seaborn v0.14.0.\n",
      "\n",
      "Please adapt your code to use either `displot` (a figure-level function with\n",
      "similar flexibility) or `histplot` (an axes-level function for histograms).\n",
      "\n",
      "For a guide to updating your code to use the new functions, please see\n",
      "https://gist.github.com/mwaskom/de44147ed2974457ad6372750bbe5751\n",
      "\n",
      "  ax = sns.distplot(dataset,kde=True,kde_kws={'color':'blue'},color='Green')\n"
     ]
    },
    {
     "data": {
      "text/plain": [
       "[0.012433180716739224,\n",
       " 0.011382324586154706,\n",
       " 0.010371511961707314,\n",
       " 0.00940622938842177,\n",
       " 0.008490855407295309,\n",
       " 0.007628685506890088,\n",
       " 0.0068219787804606035,\n",
       " 0.0060720229387701986,\n",
       " 0.005379214091874069,\n",
       " 0.004743147627095839,\n",
       " 0.0041627165630370375]"
      ]
     },
     "execution_count": 42,
     "metadata": {},
     "output_type": "execute_result"
    },
    {
     "data": {
      "image/png": "[encoded data removed]",
      "text/plain": [
       "<Figure size 640x480 with 1 Axes>"
      ]
     },
     "metadata": {},
     "output_type": "display_data"
    }
   ],
   "source": [
    "get_pdf_probability(dataset[\"Low\"],219,230)"
   ]
  },
  {
   "cell_type": "code",
   "execution_count": 70,
   "metadata": {},
   "outputs": [],
   "source": [
    "def stdNBgraph(dataset):\n",
    "        # Coverted to standard Normal Distribution\n",
    "    import seaborn as sns\n",
    "    mean=dataset.mean()\n",
    "    std=dataset.std()\n",
    "\n",
    "    values=[i for i in dataset]\n",
    "\n",
    "    z_score=[((j-mean)/std) for j in values]\n",
    "\n",
    "    sns.distplot(z_score,kde=True)\n",
    "\n",
    "    sum(z_score)/len(z_score)\n",
    "    #z_score.std()\n"
   ]
  },
  {
   "cell_type": "code",
   "execution_count": 71,
   "metadata": {},
   "outputs": [
    {
     "name": "stderr",
     "output_type": "stream",
     "text": [
      "C:\\Users\\YAS\\AppData\\Local\\Temp\\ipykernel_6380\\2909774602.py:11: UserWarning: \n",
      "\n",
      "`distplot` is a deprecated function and will be removed in seaborn v0.14.0.\n",
      "\n",
      "Please adapt your code to use either `displot` (a figure-level function with\n",
      "similar flexibility) or `histplot` (an axes-level function for histograms).\n",
      "\n",
      "For a guide to updating your code to use the new functions, please see\n",
      "https://gist.github.com/mwaskom/de44147ed2974457ad6372750bbe5751\n",
      "\n",
      "  sns.distplot(z_score,kde=True)\n"
     ]
    },
    {
     "data": {
      "image/png": "[encoded data removed]",
      "text/plain": [
       "<Figure size 640x480 with 1 Axes>"
      ]
     },
     "metadata": {},
     "output_type": "display_data"
    }
   ],
   "source": [
    "stdNBgraph(dataset[\"Low\"])"
   ]
  },
  {
   "cell_type": "code",
   "execution_count": 5,
   "metadata": {},
   "outputs": [],
   "source": [
    "def freqTable(columnName,dataset):\n",
    "    import pandas as pd\n",
    "    frq=pd.DataFrame()\n",
    "    frq[\"Unique_Values\"]=dataset[columnName].value_counts().index\n",
    "    frq[\"Frequency\"]=dataset[columnName].value_counts().values\n",
    "    frq[\"Relative_Fre\"]=dataset[columnName].value_counts().values/len(dataset[columnName])*100\n",
    "    frq[\"Cumulative\"]=frq[\"Relative_Fre\"].cumsum()\n",
    "    return frq"
   ]
  },
  {
   "cell_type": "code",
   "execution_count": 73,
   "metadata": {},
   "outputs": [
    {
     "data": {
      "text/html": [
       "<div>\n",
       "<style scoped>\n",
       "    .dataframe tbody tr th:only-of-type {\n",
       "        vertical-align: middle;\n",
       "    }\n",
       "\n",
       "    .dataframe tbody tr th {\n",
       "        vertical-align: top;\n",
       "    }\n",
       "\n",
       "    .dataframe thead th {\n",
       "        text-align: right;\n",
       "    }\n",
       "</style>\n",
       "<table border=\"1\" class=\"dataframe\">\n",
       "  <thead>\n",
       "    <tr style=\"text-align: right;\">\n",
       "      <th></th>\n",
       "      <th>Unique_Values</th>\n",
       "      <th>Frequency</th>\n",
       "      <th>Relative_Fre</th>\n",
       "      <th>Cumulative</th>\n",
       "    </tr>\n",
       "  </thead>\n",
       "  <tbody>\n",
       "    <tr>\n",
       "      <th>0</th>\n",
       "      <td>196.000000</td>\n",
       "      <td>3</td>\n",
       "      <td>2.000000</td>\n",
       "      <td>2.000000</td>\n",
       "    </tr>\n",
       "    <tr>\n",
       "      <th>1</th>\n",
       "      <td>203.050003</td>\n",
       "      <td>2</td>\n",
       "      <td>1.333333</td>\n",
       "      <td>3.333333</td>\n",
       "    </tr>\n",
       "    <tr>\n",
       "      <th>2</th>\n",
       "      <td>210.000000</td>\n",
       "      <td>2</td>\n",
       "      <td>1.333333</td>\n",
       "      <td>4.666667</td>\n",
       "    </tr>\n",
       "    <tr>\n",
       "      <th>3</th>\n",
       "      <td>201.500000</td>\n",
       "      <td>2</td>\n",
       "      <td>1.333333</td>\n",
       "      <td>6.000000</td>\n",
       "    </tr>\n",
       "    <tr>\n",
       "      <th>4</th>\n",
       "      <td>189.500000</td>\n",
       "      <td>2</td>\n",
       "      <td>1.333333</td>\n",
       "      <td>7.333333</td>\n",
       "    </tr>\n",
       "    <tr>\n",
       "      <th>...</th>\n",
       "      <td>...</td>\n",
       "      <td>...</td>\n",
       "      <td>...</td>\n",
       "      <td>...</td>\n",
       "    </tr>\n",
       "    <tr>\n",
       "      <th>132</th>\n",
       "      <td>207.649994</td>\n",
       "      <td>1</td>\n",
       "      <td>0.666667</td>\n",
       "      <td>97.333333</td>\n",
       "    </tr>\n",
       "    <tr>\n",
       "      <th>133</th>\n",
       "      <td>207.100006</td>\n",
       "      <td>1</td>\n",
       "      <td>0.666667</td>\n",
       "      <td>98.000000</td>\n",
       "    </tr>\n",
       "    <tr>\n",
       "      <th>134</th>\n",
       "      <td>205.000000</td>\n",
       "      <td>1</td>\n",
       "      <td>0.666667</td>\n",
       "      <td>98.666667</td>\n",
       "    </tr>\n",
       "    <tr>\n",
       "      <th>135</th>\n",
       "      <td>206.149994</td>\n",
       "      <td>1</td>\n",
       "      <td>0.666667</td>\n",
       "      <td>99.333333</td>\n",
       "    </tr>\n",
       "    <tr>\n",
       "      <th>136</th>\n",
       "      <td>212.449997</td>\n",
       "      <td>1</td>\n",
       "      <td>0.666667</td>\n",
       "      <td>100.000000</td>\n",
       "    </tr>\n",
       "  </tbody>\n",
       "</table>\n",
       "<p>137 rows × 4 columns</p>\n",
       "</div>"
      ],
      "text/plain": [
       "     Unique_Values  Frequency  Relative_Fre  Cumulative\n",
       "0       196.000000          3      2.000000    2.000000\n",
       "1       203.050003          2      1.333333    3.333333\n",
       "2       210.000000          2      1.333333    4.666667\n",
       "3       201.500000          2      1.333333    6.000000\n",
       "4       189.500000          2      1.333333    7.333333\n",
       "..             ...        ...           ...         ...\n",
       "132     207.649994          1      0.666667   97.333333\n",
       "133     207.100006          1      0.666667   98.000000\n",
       "134     205.000000          1      0.666667   98.666667\n",
       "135     206.149994          1      0.666667   99.333333\n",
       "136     212.449997          1      0.666667  100.000000\n",
       "\n",
       "[137 rows x 4 columns]"
      ]
     },
     "execution_count": 73,
     "metadata": {},
     "output_type": "execute_result"
    }
   ],
   "source": [
    "freqTable(\"Low\",dataset)"
   ]
  },
  {
   "cell_type": "code",
   "execution_count": 74,
   "metadata": {},
   "outputs": [
    {
     "data": {
      "text/html": [
       "<div>\n",
       "<style scoped>\n",
       "    .dataframe tbody tr th:only-of-type {\n",
       "        vertical-align: middle;\n",
       "    }\n",
       "\n",
       "    .dataframe tbody tr th {\n",
       "        vertical-align: top;\n",
       "    }\n",
       "\n",
       "    .dataframe thead th {\n",
       "        text-align: right;\n",
       "    }\n",
       "</style>\n",
       "<table border=\"1\" class=\"dataframe\">\n",
       "  <thead>\n",
       "    <tr style=\"text-align: right;\">\n",
       "      <th></th>\n",
       "      <th>Unique_Values</th>\n",
       "      <th>Frequency</th>\n",
       "      <th>Relative_Fre</th>\n",
       "      <th>Cumulative</th>\n",
       "    </tr>\n",
       "  </thead>\n",
       "  <tbody>\n",
       "    <tr>\n",
       "      <th>0</th>\n",
       "      <td>189.000000</td>\n",
       "      <td>2</td>\n",
       "      <td>1.333333</td>\n",
       "      <td>1.333333</td>\n",
       "    </tr>\n",
       "    <tr>\n",
       "      <th>1</th>\n",
       "      <td>206.000000</td>\n",
       "      <td>2</td>\n",
       "      <td>1.333333</td>\n",
       "      <td>2.666667</td>\n",
       "    </tr>\n",
       "    <tr>\n",
       "      <th>2</th>\n",
       "      <td>178.699997</td>\n",
       "      <td>2</td>\n",
       "      <td>1.333333</td>\n",
       "      <td>4.000000</td>\n",
       "    </tr>\n",
       "    <tr>\n",
       "      <th>3</th>\n",
       "      <td>213.000000</td>\n",
       "      <td>2</td>\n",
       "      <td>1.333333</td>\n",
       "      <td>5.333333</td>\n",
       "    </tr>\n",
       "    <tr>\n",
       "      <th>4</th>\n",
       "      <td>218.300003</td>\n",
       "      <td>2</td>\n",
       "      <td>1.333333</td>\n",
       "      <td>6.666667</td>\n",
       "    </tr>\n",
       "    <tr>\n",
       "      <th>...</th>\n",
       "      <td>...</td>\n",
       "      <td>...</td>\n",
       "      <td>...</td>\n",
       "      <td>...</td>\n",
       "    </tr>\n",
       "    <tr>\n",
       "      <th>135</th>\n",
       "      <td>213.699997</td>\n",
       "      <td>1</td>\n",
       "      <td>0.666667</td>\n",
       "      <td>97.333333</td>\n",
       "    </tr>\n",
       "    <tr>\n",
       "      <th>136</th>\n",
       "      <td>214.500000</td>\n",
       "      <td>1</td>\n",
       "      <td>0.666667</td>\n",
       "      <td>98.000000</td>\n",
       "    </tr>\n",
       "    <tr>\n",
       "      <th>137</th>\n",
       "      <td>216.949997</td>\n",
       "      <td>1</td>\n",
       "      <td>0.666667</td>\n",
       "      <td>98.666667</td>\n",
       "    </tr>\n",
       "    <tr>\n",
       "      <th>138</th>\n",
       "      <td>213.550003</td>\n",
       "      <td>1</td>\n",
       "      <td>0.666667</td>\n",
       "      <td>99.333333</td>\n",
       "    </tr>\n",
       "    <tr>\n",
       "      <th>139</th>\n",
       "      <td>220.800003</td>\n",
       "      <td>1</td>\n",
       "      <td>0.666667</td>\n",
       "      <td>100.000000</td>\n",
       "    </tr>\n",
       "  </tbody>\n",
       "</table>\n",
       "<p>140 rows × 4 columns</p>\n",
       "</div>"
      ],
      "text/plain": [
       "     Unique_Values  Frequency  Relative_Fre  Cumulative\n",
       "0       189.000000          2      1.333333    1.333333\n",
       "1       206.000000          2      1.333333    2.666667\n",
       "2       178.699997          2      1.333333    4.000000\n",
       "3       213.000000          2      1.333333    5.333333\n",
       "4       218.300003          2      1.333333    6.666667\n",
       "..             ...        ...           ...         ...\n",
       "135     213.699997          1      0.666667   97.333333\n",
       "136     214.500000          1      0.666667   98.000000\n",
       "137     216.949997          1      0.666667   98.666667\n",
       "138     213.550003          1      0.666667   99.333333\n",
       "139     220.800003          1      0.666667  100.000000\n",
       "\n",
       "[140 rows x 4 columns]"
      ]
     },
     "execution_count": 74,
     "metadata": {},
     "output_type": "execute_result"
    }
   ],
   "source": [
    "freqTable(\"High\",dataset)"
   ]
  },
  {
   "cell_type": "code",
   "execution_count": 19,
   "metadata": {},
   "outputs": [],
   "source": [
    "fh=freqTable(\"High\",dataset)"
   ]
  },
  {
   "cell_type": "code",
   "execution_count": 76,
   "metadata": {},
   "outputs": [
    {
     "data": {
      "text/html": [
       "<div>\n",
       "<style scoped>\n",
       "    .dataframe tbody tr th:only-of-type {\n",
       "        vertical-align: middle;\n",
       "    }\n",
       "\n",
       "    .dataframe tbody tr th {\n",
       "        vertical-align: top;\n",
       "    }\n",
       "\n",
       "    .dataframe thead th {\n",
       "        text-align: right;\n",
       "    }\n",
       "</style>\n",
       "<table border=\"1\" class=\"dataframe\">\n",
       "  <thead>\n",
       "    <tr style=\"text-align: right;\">\n",
       "      <th></th>\n",
       "      <th>Unique_Values</th>\n",
       "      <th>Frequency</th>\n",
       "      <th>Relative_Fre</th>\n",
       "      <th>Cumulative</th>\n",
       "    </tr>\n",
       "  </thead>\n",
       "  <tbody>\n",
       "    <tr>\n",
       "      <th>0</th>\n",
       "      <td>189.000000</td>\n",
       "      <td>2</td>\n",
       "      <td>1.333333</td>\n",
       "      <td>1.333333</td>\n",
       "    </tr>\n",
       "    <tr>\n",
       "      <th>6</th>\n",
       "      <td>204.050003</td>\n",
       "      <td>2</td>\n",
       "      <td>1.333333</td>\n",
       "      <td>9.333333</td>\n",
       "    </tr>\n",
       "    <tr>\n",
       "      <th>9</th>\n",
       "      <td>214.699997</td>\n",
       "      <td>2</td>\n",
       "      <td>1.333333</td>\n",
       "      <td>13.333333</td>\n",
       "    </tr>\n",
       "    <tr>\n",
       "      <th>8</th>\n",
       "      <td>209.500000</td>\n",
       "      <td>2</td>\n",
       "      <td>1.333333</td>\n",
       "      <td>12.000000</td>\n",
       "    </tr>\n",
       "    <tr>\n",
       "      <th>7</th>\n",
       "      <td>207.800003</td>\n",
       "      <td>2</td>\n",
       "      <td>1.333333</td>\n",
       "      <td>10.666667</td>\n",
       "    </tr>\n",
       "    <tr>\n",
       "      <th>...</th>\n",
       "      <td>...</td>\n",
       "      <td>...</td>\n",
       "      <td>...</td>\n",
       "      <td>...</td>\n",
       "    </tr>\n",
       "    <tr>\n",
       "      <th>46</th>\n",
       "      <td>220.449997</td>\n",
       "      <td>1</td>\n",
       "      <td>0.666667</td>\n",
       "      <td>38.000000</td>\n",
       "    </tr>\n",
       "    <tr>\n",
       "      <th>45</th>\n",
       "      <td>216.699997</td>\n",
       "      <td>1</td>\n",
       "      <td>0.666667</td>\n",
       "      <td>37.333333</td>\n",
       "    </tr>\n",
       "    <tr>\n",
       "      <th>44</th>\n",
       "      <td>211.500000</td>\n",
       "      <td>1</td>\n",
       "      <td>0.666667</td>\n",
       "      <td>36.666667</td>\n",
       "    </tr>\n",
       "    <tr>\n",
       "      <th>43</th>\n",
       "      <td>216.199997</td>\n",
       "      <td>1</td>\n",
       "      <td>0.666667</td>\n",
       "      <td>36.000000</td>\n",
       "    </tr>\n",
       "    <tr>\n",
       "      <th>139</th>\n",
       "      <td>220.800003</td>\n",
       "      <td>1</td>\n",
       "      <td>0.666667</td>\n",
       "      <td>100.000000</td>\n",
       "    </tr>\n",
       "  </tbody>\n",
       "</table>\n",
       "<p>140 rows × 4 columns</p>\n",
       "</div>"
      ],
      "text/plain": [
       "     Unique_Values  Frequency  Relative_Fre  Cumulative\n",
       "0       189.000000          2      1.333333    1.333333\n",
       "6       204.050003          2      1.333333    9.333333\n",
       "9       214.699997          2      1.333333   13.333333\n",
       "8       209.500000          2      1.333333   12.000000\n",
       "7       207.800003          2      1.333333   10.666667\n",
       "..             ...        ...           ...         ...\n",
       "46      220.449997          1      0.666667   38.000000\n",
       "45      216.699997          1      0.666667   37.333333\n",
       "44      211.500000          1      0.666667   36.666667\n",
       "43      216.199997          1      0.666667   36.000000\n",
       "139     220.800003          1      0.666667  100.000000\n",
       "\n",
       "[140 rows x 4 columns]"
      ]
     },
     "execution_count": 76,
     "metadata": {},
     "output_type": "execute_result"
    }
   ],
   "source": [
    "fh.sort_values(by=\"Frequency\",ascending=False)"
   ]
  },
  {
   "cell_type": "code",
   "execution_count": 77,
   "metadata": {},
   "outputs": [],
   "source": [
    "fhs=fh[fh[\"Frequency\"]==2][\"Unique_Values\"].sort_values(ascending=False)"
   ]
  },
  {
   "cell_type": "code",
   "execution_count": 78,
   "metadata": {},
   "outputs": [
    {
     "data": {
      "text/plain": [
       "4    218.300003\n",
       "9    214.699997\n",
       "3    213.000000\n",
       "8    209.500000\n",
       "7    207.800003\n",
       "1    206.000000\n",
       "6    204.050003\n",
       "5    193.949997\n",
       "0    189.000000\n",
       "2    178.699997\n",
       "Name: Unique_Values, dtype: float64"
      ]
     },
     "execution_count": 78,
     "metadata": {},
     "output_type": "execute_result"
    }
   ],
   "source": [
    "fhs"
   ]
  },
  {
   "cell_type": "code",
   "execution_count": null,
   "metadata": {},
   "outputs": [],
   "source": []
  }
 ],
 "metadata": {
  "kernelspec": {
   "display_name": "Python 3 (ipykernel)",
   "language": "python",
   "name": "python3"
  },
  "language_info": {
   "codemirror_mode": {
    "name": "ipython",
    "version": 3
   },
   "file_extension": ".py",
   "mimetype": "text/x-python",
   "name": "python",
   "nbconvert_exporter": "python",
   "pygments_lexer": "ipython3",
   "version": "3.11.4"
  }
 },
 "nbformat": 4,
 "nbformat_minor": 4
}
